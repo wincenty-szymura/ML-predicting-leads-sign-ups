{
 "cells": [
  {
   "cell_type": "markdown",
   "id": "e841c153",
   "metadata": {},
   "source": [
    "# Predicting sign-ups to a membership programme using neural network\n",
    "\n",
    "The goal is to check what improvements neural networks offer compared to the logistic regression initially used to predict the sign-ups. The preprocessing is kept the same for most parts and detailed discussion on the steps can be found in the \"Logistic regression - predicting leads sign-ups\" notebook. The FastAI library is used implement the network."
   ]
  },
  {
   "cell_type": "markdown",
   "id": "0f341093",
   "metadata": {},
   "source": [
    "## Preprocessing "
   ]
  },
  {
   "cell_type": "markdown",
   "id": "57dbf3dd",
   "metadata": {},
   "source": [
    "### Import the relevant libraries"
   ]
  },
  {
   "cell_type": "code",
   "execution_count": 1,
   "id": "9902572f",
   "metadata": {},
   "outputs": [],
   "source": [
    "from fastai.tabular.all import *\n",
    "import pandas as pd\n",
    "import numpy as np\n",
    "import torch\n",
    "import warnings\n",
    "\n",
    "# turn off all warnings\n",
    "warnings.filterwarnings('ignore')"
   ]
  },
  {
   "cell_type": "markdown",
   "id": "17a93f60",
   "metadata": {},
   "source": [
    "### Load the dataset"
   ]
  },
  {
   "cell_type": "code",
   "execution_count": 2,
   "id": "8f235f56",
   "metadata": {},
   "outputs": [],
   "source": [
    "# load data\n",
    "dataset = pd.read_csv('regression_dataset.csv')"
   ]
  },
  {
   "cell_type": "markdown",
   "id": "6b72fb44",
   "metadata": {},
   "source": [
    "### Apply preprocessing steps\n",
    "These operations will leave the dataset in the same shape it is in the \"Logistic regression - predicting leads sign-ups\" notebook prior to one-hot encoding."
   ]
  },
  {
   "cell_type": "code",
   "execution_count": 3,
   "id": "1cbb2860",
   "metadata": {},
   "outputs": [
    {
     "data": {
      "text/html": [
       "<div>\n",
       "<style scoped>\n",
       "    .dataframe tbody tr th:only-of-type {\n",
       "        vertical-align: middle;\n",
       "    }\n",
       "\n",
       "    .dataframe tbody tr th {\n",
       "        vertical-align: top;\n",
       "    }\n",
       "\n",
       "    .dataframe thead th {\n",
       "        text-align: right;\n",
       "    }\n",
       "</style>\n",
       "<table border=\"1\" class=\"dataframe\">\n",
       "  <thead>\n",
       "    <tr style=\"text-align: right;\">\n",
       "      <th></th>\n",
       "      <th>Name</th>\n",
       "      <th>Phone Number</th>\n",
       "      <th>Province</th>\n",
       "      <th>Sport</th>\n",
       "      <th>Game Attendance</th>\n",
       "      <th>Age</th>\n",
       "      <th>Applied</th>\n",
       "    </tr>\n",
       "  </thead>\n",
       "  <tbody>\n",
       "    <tr>\n",
       "      <th>0</th>\n",
       "      <td>Miya Charles</td>\n",
       "      <td>728190618071</td>\n",
       "      <td>New Brunswick</td>\n",
       "      <td>rugby</td>\n",
       "      <td>0.20</td>\n",
       "      <td>33</td>\n",
       "      <td>NaN</td>\n",
       "    </tr>\n",
       "    <tr>\n",
       "      <th>1</th>\n",
       "      <td>Deangelo Cobb</td>\n",
       "      <td>255217276432</td>\n",
       "      <td>Alberta</td>\n",
       "      <td>soccer</td>\n",
       "      <td>0.81</td>\n",
       "      <td>24</td>\n",
       "      <td>NaN</td>\n",
       "    </tr>\n",
       "    <tr>\n",
       "      <th>2</th>\n",
       "      <td>Adam Rogers</td>\n",
       "      <td>538482482123</td>\n",
       "      <td>Ontario</td>\n",
       "      <td>baseball</td>\n",
       "      <td>0.30</td>\n",
       "      <td>33</td>\n",
       "      <td>NaN</td>\n",
       "    </tr>\n",
       "    <tr>\n",
       "      <th>3</th>\n",
       "      <td>Demarion Dudley</td>\n",
       "      <td>913979679898</td>\n",
       "      <td>British Columbia</td>\n",
       "      <td>ice hockey</td>\n",
       "      <td>0.43</td>\n",
       "      <td>26</td>\n",
       "      <td>NaN</td>\n",
       "    </tr>\n",
       "    <tr>\n",
       "      <th>4</th>\n",
       "      <td>Scott Medina</td>\n",
       "      <td>676902221026</td>\n",
       "      <td>Ontario</td>\n",
       "      <td>ice hockey</td>\n",
       "      <td>0.36</td>\n",
       "      <td>25</td>\n",
       "      <td>NaN</td>\n",
       "    </tr>\n",
       "    <tr>\n",
       "      <th>5</th>\n",
       "      <td>Tessa Lowe</td>\n",
       "      <td>822568222276</td>\n",
       "      <td>Nova Scotia</td>\n",
       "      <td>rugby</td>\n",
       "      <td>0.66</td>\n",
       "      <td>29</td>\n",
       "      <td>NaN</td>\n",
       "    </tr>\n",
       "    <tr>\n",
       "      <th>6</th>\n",
       "      <td>Jaylin Bailey</td>\n",
       "      <td>422215394903</td>\n",
       "      <td>British Columbia</td>\n",
       "      <td>ice hockey</td>\n",
       "      <td>0.61</td>\n",
       "      <td>25</td>\n",
       "      <td>NaN</td>\n",
       "    </tr>\n",
       "    <tr>\n",
       "      <th>7</th>\n",
       "      <td>Francisco Curtis</td>\n",
       "      <td>775967173668</td>\n",
       "      <td>Alberta</td>\n",
       "      <td>soccer</td>\n",
       "      <td>0.40</td>\n",
       "      <td>20</td>\n",
       "      <td>True</td>\n",
       "    </tr>\n",
       "    <tr>\n",
       "      <th>8</th>\n",
       "      <td>Osvaldo Griffin</td>\n",
       "      <td>596918287046</td>\n",
       "      <td>British Columbia</td>\n",
       "      <td>cricket</td>\n",
       "      <td>0.30</td>\n",
       "      <td>28</td>\n",
       "      <td>NaN</td>\n",
       "    </tr>\n",
       "    <tr>\n",
       "      <th>9</th>\n",
       "      <td>Yoselin Moyer</td>\n",
       "      <td>242633357110</td>\n",
       "      <td>Ontario</td>\n",
       "      <td>tennis</td>\n",
       "      <td>0.31</td>\n",
       "      <td>22</td>\n",
       "      <td>False</td>\n",
       "    </tr>\n",
       "  </tbody>\n",
       "</table>\n",
       "</div>"
      ],
      "text/plain": [
       "               Name  Phone Number          Province       Sport  \\\n",
       "0      Miya Charles  728190618071     New Brunswick       rugby   \n",
       "1     Deangelo Cobb  255217276432           Alberta      soccer   \n",
       "2       Adam Rogers  538482482123           Ontario    baseball   \n",
       "3   Demarion Dudley  913979679898  British Columbia  ice hockey   \n",
       "4      Scott Medina  676902221026           Ontario  ice hockey   \n",
       "5        Tessa Lowe  822568222276       Nova Scotia       rugby   \n",
       "6     Jaylin Bailey  422215394903  British Columbia  ice hockey   \n",
       "7  Francisco Curtis  775967173668           Alberta      soccer   \n",
       "8   Osvaldo Griffin  596918287046  British Columbia     cricket   \n",
       "9     Yoselin Moyer  242633357110           Ontario      tennis   \n",
       "\n",
       "   Game Attendance  Age Applied  \n",
       "0             0.20   33     NaN  \n",
       "1             0.81   24     NaN  \n",
       "2             0.30   33     NaN  \n",
       "3             0.43   26     NaN  \n",
       "4             0.36   25     NaN  \n",
       "5             0.66   29     NaN  \n",
       "6             0.61   25     NaN  \n",
       "7             0.40   20    True  \n",
       "8             0.30   28     NaN  \n",
       "9             0.31   22   False  "
      ]
     },
     "execution_count": 3,
     "metadata": {},
     "output_type": "execute_result"
    }
   ],
   "source": [
    "# keep only leads 105 years old or younger\n",
    "dataset2 = dataset[dataset['Age'] <= 105].copy()\n",
    "# combine 3 Territories into 1 value\n",
    "dataset2.loc[:,'Province'] = dataset2.loc[:,'Province'].replace(['Northwest Territories', 'Yukon', 'Nunavut'], 'Territories')\n",
    "# drop unnecessary columns\n",
    "dataset2.drop(columns = ['Called', 'Call Center', 'Call Outcome', 'Decision'], axis=1, inplace=True)\n",
    "# display the dataset after changes\n",
    "dataset2.head(10)"
   ]
  },
  {
   "cell_type": "markdown",
   "id": "7ce5face",
   "metadata": {},
   "source": [
    "The rest of the processing is contained in FastAI's DataLoaders object in a later part of the notebook. The next step is separating the dataset into train, test and predict sets."
   ]
  },
  {
   "cell_type": "markdown",
   "id": "26e95c66",
   "metadata": {},
   "source": [
    "## Separating the dataset\n",
    "The separation into dataset_fit and dataset_predict is a copy of the code used in the \"Logistic regression - predicting leads sign-ups\" notebook."
   ]
  },
  {
   "cell_type": "code",
   "execution_count": 4,
   "id": "b5d3c20d",
   "metadata": {},
   "outputs": [
    {
     "data": {
      "text/plain": [
       "Applied\n",
       "0    1928\n",
       "1     760\n",
       "Name: count, dtype: int64"
      ]
     },
     "execution_count": 4,
     "metadata": {},
     "output_type": "execute_result"
    }
   ],
   "source": [
    "# separate into dataset to be used for training and testing the network\n",
    "dataset_fit = dataset2[~dataset2['Applied'].isna()].copy()\n",
    "# and the dataset on which predictions will be made\n",
    "dataset_predict = dataset2[dataset2['Applied'].isna()].copy()\n",
    "# rename column Applied to Applying Probabilities\n",
    "dataset_predict.rename(columns={'Applied': 'Applying Probability'}, inplace=True)\n",
    "# change target data type from bool to int\n",
    "dataset_fit['Applied'] = dataset_fit['Applied'].astype(int)\n",
    "# see the value count in the dataframe for fitting (expecting 0s and 1s)\n",
    "dataset_fit['Applied'].value_counts()"
   ]
  },
  {
   "cell_type": "markdown",
   "id": "c6552b85",
   "metadata": {},
   "source": [
    "### Splitting into train and test sets\n",
    "FastAI's TrainTestSplitter method uses sklearns' train_test_split method."
   ]
  },
  {
   "cell_type": "code",
   "execution_count": 5,
   "id": "bfef9ff8",
   "metadata": {},
   "outputs": [],
   "source": [
    "# separate into training (&validation) and test set\n",
    "train_indices, test_indices = TrainTestSplitter(test_size=0.2, random_state=42, stratify=dataset_fit['Applied'])(dataset_fit)\n",
    "dataset_train = dataset_fit.iloc[train_indices]\n",
    "dataset_test = dataset_fit.iloc[test_indices]"
   ]
  },
  {
   "cell_type": "markdown",
   "id": "0ea0e5e5",
   "metadata": {},
   "source": [
    "## Model & predictions"
   ]
  },
  {
   "cell_type": "markdown",
   "id": "3687fb44",
   "metadata": {},
   "source": [
    "### Model building\n",
    "Following the same logic as in \"Logistic regression - predicting leads sign-ups\" notebook, class weights are used and the Area Under the Precision-Recall Curve (AUPRC), also known as average precision, is used as the evaluation metric."
   ]
  },
  {
   "cell_type": "code",
   "execution_count": 6,
   "id": "883918c0",
   "metadata": {},
   "outputs": [
    {
     "data": {
      "text/plain": [
       "Applied\n",
       "0    1542\n",
       "1     608\n",
       "Name: count, dtype: int64"
      ]
     },
     "execution_count": 6,
     "metadata": {},
     "output_type": "execute_result"
    }
   ],
   "source": [
    "# check the imbalance in the training set\n",
    "dataset_train['Applied'].value_counts()"
   ]
  },
  {
   "cell_type": "code",
   "execution_count": 7,
   "id": "76a300fc",
   "metadata": {},
   "outputs": [],
   "source": [
    "# using the values from above define class weights, inversely proportional to the class size\n",
    "weights = torch.tensor([608,1542], dtype=torch.float32)\n",
    "# create custom loss function taking the weights into account\n",
    "loss_func = CrossEntropyLossFlat(weight=weights)"
   ]
  },
  {
   "cell_type": "code",
   "execution_count": 8,
   "id": "7db02cc6",
   "metadata": {},
   "outputs": [],
   "source": [
    "# define the evaluation metric\n",
    "AUPRC = APScoreBinary()"
   ]
  },
  {
   "cell_type": "markdown",
   "id": "bab0eda9",
   "metadata": {},
   "source": [
    "FastAI's models use DataLoaders objects for feeding the model data for training. For this particular task a DataLoaders is created from a TabularPandas object which provides a wrapper around dataset_train DataFrame to prepare it for machine learning models."
   ]
  },
  {
   "cell_type": "code",
   "execution_count": 9,
   "id": "1b4b5228",
   "metadata": {},
   "outputs": [],
   "source": [
    "# create a DataLoaders for tabular learner\n",
    "dls = TabularPandas(\n",
    "    # the dataset to be used\n",
    "    dataset_train, \n",
    "    # division into train and validation sets\n",
    "    splits = RandomSplitter(seed=42)(dataset_train),\n",
    "    # define data processing steps - the data have only been processed partially so far, as mentioned earlier\n",
    "    # Categorify: performs categorical embedding on categorical features. This is considered the preferred way of dealing with\n",
    "    # categorical features and is done instead of one-hot-encoding.\n",
    "    # Normalize: standardizes continuous variables (subtracts the mean and divides by the standard deviation).\n",
    "    procs = [Categorify, Normalize],\n",
    "    # categorical features\n",
    "    cat_names=[\"Province\",\"Sport\"],\n",
    "    # continuous features\n",
    "    cont_names=[\"Game Attendance\",\"Age\"],\n",
    "    # target variable\n",
    "    y_names=\"Applied\",\n",
    "    # type of the target variable - categories (0 or 1)\n",
    "    y_block = CategoryBlock(),\n",
    ").dataloaders(path=\".\")"
   ]
  },
  {
   "cell_type": "markdown",
   "id": "89069406",
   "metadata": {},
   "source": [
    "Three neural networks are trained and compared using the validation set to see which is best-suited for the dataset under analysis. Each of the networks has 2 hidden layers, as more should not be necessary for the task at hand. The difference between the networks is in the number of neurons in hidden layers: [5,5], [20,20], [100,100]."
   ]
  },
  {
   "cell_type": "markdown",
   "id": "04ff8e9d",
   "metadata": {},
   "source": [
    "### [5,5] network"
   ]
  },
  {
   "cell_type": "code",
   "execution_count": 10,
   "id": "3ee2d1ca",
   "metadata": {},
   "outputs": [],
   "source": [
    "# declare a FastAI Learner object containing the data and the model\n",
    "learn55 = tabular_learner(dls, metrics=AUPRC, layers=[5,5], loss_func=loss_func)"
   ]
  },
  {
   "cell_type": "code",
   "execution_count": 11,
   "id": "6c769697",
   "metadata": {},
   "outputs": [
    {
     "data": {
      "text/html": [
       "\n",
       "<style>\n",
       "    /* Turns off some styling */\n",
       "    progress {\n",
       "        /* gets rid of default border in Firefox and Opera. */\n",
       "        border: none;\n",
       "        /* Needs to be in here for Safari polyfill so background images work as expected. */\n",
       "        background-size: auto;\n",
       "    }\n",
       "    progress:not([value]), progress:not([value])::-webkit-progress-bar {\n",
       "        background: repeating-linear-gradient(45deg, #7e7e7e, #7e7e7e 10px, #5c5c5c 10px, #5c5c5c 20px);\n",
       "    }\n",
       "    .progress-bar-interrupted, .progress-bar-interrupted::-webkit-progress-bar {\n",
       "        background: #F44336;\n",
       "    }\n",
       "</style>\n"
      ],
      "text/plain": [
       "<IPython.core.display.HTML object>"
      ]
     },
     "metadata": {},
     "output_type": "display_data"
    },
    {
     "data": {
      "text/html": [],
      "text/plain": [
       "<IPython.core.display.HTML object>"
      ]
     },
     "metadata": {},
     "output_type": "display_data"
    },
    {
     "data": {
      "text/plain": [
       "SuggestedLRs(valley=0.013182567432522774)"
      ]
     },
     "execution_count": 11,
     "metadata": {},
     "output_type": "execute_result"
    },
    {
     "data": {
      "image/png": "[encoded data removed]",
      "text/plain": [
       "<Figure size 640x480 with 1 Axes>"
      ]
     },
     "metadata": {},
     "output_type": "display_data"
    }
   ],
   "source": [
    "# find the optimal learning rate\n",
    "learn55.lr_find()"
   ]
  },
  {
   "cell_type": "code",
   "execution_count": 12,
   "id": "6d6a949b",
   "metadata": {},
   "outputs": [
    {
     "data": {
      "text/html": [
       "\n",
       "<style>\n",
       "    /* Turns off some styling */\n",
       "    progress {\n",
       "        /* gets rid of default border in Firefox and Opera. */\n",
       "        border: none;\n",
       "        /* Needs to be in here for Safari polyfill so background images work as expected. */\n",
       "        background-size: auto;\n",
       "    }\n",
       "    progress:not([value]), progress:not([value])::-webkit-progress-bar {\n",
       "        background: repeating-linear-gradient(45deg, #7e7e7e, #7e7e7e 10px, #5c5c5c 10px, #5c5c5c 20px);\n",
       "    }\n",
       "    .progress-bar-interrupted, .progress-bar-interrupted::-webkit-progress-bar {\n",
       "        background: #F44336;\n",
       "    }\n",
       "</style>\n"
      ],
      "text/plain": [
       "<IPython.core.display.HTML object>"
      ]
     },
     "metadata": {},
     "output_type": "display_data"
    },
    {
     "data": {
      "text/html": [
       "<table border=\"1\" class=\"dataframe\">\n",
       "  <thead>\n",
       "    <tr style=\"text-align: left;\">\n",
       "      <th>epoch</th>\n",
       "      <th>train_loss</th>\n",
       "      <th>valid_loss</th>\n",
       "      <th>average_precision_score</th>\n",
       "      <th>time</th>\n",
       "    </tr>\n",
       "  </thead>\n",
       "  <tbody>\n",
       "    <tr>\n",
       "      <td>0</td>\n",
       "      <td>0.718645</td>\n",
       "      <td>0.646274</td>\n",
       "      <td>0.444403</td>\n",
       "      <td>00:00</td>\n",
       "    </tr>\n",
       "    <tr>\n",
       "      <td>1</td>\n",
       "      <td>0.678782</td>\n",
       "      <td>0.649213</td>\n",
       "      <td>0.482476</td>\n",
       "      <td>00:00</td>\n",
       "    </tr>\n",
       "    <tr>\n",
       "      <td>2</td>\n",
       "      <td>0.663292</td>\n",
       "      <td>0.629585</td>\n",
       "      <td>0.514609</td>\n",
       "      <td>00:00</td>\n",
       "    </tr>\n",
       "    <tr>\n",
       "      <td>3</td>\n",
       "      <td>0.658573</td>\n",
       "      <td>0.652216</td>\n",
       "      <td>0.483231</td>\n",
       "      <td>00:00</td>\n",
       "    </tr>\n",
       "    <tr>\n",
       "      <td>4</td>\n",
       "      <td>0.663918</td>\n",
       "      <td>0.651083</td>\n",
       "      <td>0.464148</td>\n",
       "      <td>00:00</td>\n",
       "    </tr>\n",
       "    <tr>\n",
       "      <td>5</td>\n",
       "      <td>0.658430</td>\n",
       "      <td>0.650844</td>\n",
       "      <td>0.503337</td>\n",
       "      <td>00:00</td>\n",
       "    </tr>\n",
       "    <tr>\n",
       "      <td>6</td>\n",
       "      <td>0.655416</td>\n",
       "      <td>0.631048</td>\n",
       "      <td>0.499556</td>\n",
       "      <td>00:00</td>\n",
       "    </tr>\n",
       "    <tr>\n",
       "      <td>7</td>\n",
       "      <td>0.650992</td>\n",
       "      <td>0.635130</td>\n",
       "      <td>0.483132</td>\n",
       "      <td>00:00</td>\n",
       "    </tr>\n",
       "    <tr>\n",
       "      <td>8</td>\n",
       "      <td>0.647604</td>\n",
       "      <td>0.649623</td>\n",
       "      <td>0.498259</td>\n",
       "      <td>00:00</td>\n",
       "    </tr>\n",
       "    <tr>\n",
       "      <td>9</td>\n",
       "      <td>0.646457</td>\n",
       "      <td>0.625498</td>\n",
       "      <td>0.500285</td>\n",
       "      <td>00:00</td>\n",
       "    </tr>\n",
       "    <tr>\n",
       "      <td>10</td>\n",
       "      <td>0.639045</td>\n",
       "      <td>0.628250</td>\n",
       "      <td>0.500628</td>\n",
       "      <td>00:00</td>\n",
       "    </tr>\n",
       "    <tr>\n",
       "      <td>11</td>\n",
       "      <td>0.638840</td>\n",
       "      <td>0.631807</td>\n",
       "      <td>0.498420</td>\n",
       "      <td>00:00</td>\n",
       "    </tr>\n",
       "    <tr>\n",
       "      <td>12</td>\n",
       "      <td>0.634074</td>\n",
       "      <td>0.632679</td>\n",
       "      <td>0.497926</td>\n",
       "      <td>00:00</td>\n",
       "    </tr>\n",
       "    <tr>\n",
       "      <td>13</td>\n",
       "      <td>0.630127</td>\n",
       "      <td>0.632786</td>\n",
       "      <td>0.499676</td>\n",
       "      <td>00:00</td>\n",
       "    </tr>\n",
       "    <tr>\n",
       "      <td>14</td>\n",
       "      <td>0.627333</td>\n",
       "      <td>0.631838</td>\n",
       "      <td>0.497541</td>\n",
       "      <td>00:00</td>\n",
       "    </tr>\n",
       "  </tbody>\n",
       "</table>"
      ],
      "text/plain": [
       "<IPython.core.display.HTML object>"
      ]
     },
     "metadata": {},
     "output_type": "display_data"
    },
    {
     "name": "stdout",
     "output_type": "stream",
     "text": [
      "Better model found at epoch 0 with average_precision_score value: 0.44440265198561524.\n",
      "Better model found at epoch 1 with average_precision_score value: 0.48247635297840497.\n",
      "Better model found at epoch 2 with average_precision_score value: 0.5146086068177287.\n"
     ]
    }
   ],
   "source": [
    "# train the model using fit_one_cycle method which uses Leslie Smith's 1cycle policy\n",
    "# the model is trained for 15 epochs and SaveModelCallback registers the model with best average precision\n",
    "learn55.fit_one_cycle(15, lr_max=1e-1, cbs=SaveModelCallback(monitor='average_precision_score', min_delta=0.001))"
   ]
  },
  {
   "cell_type": "markdown",
   "id": "148e4fc6",
   "metadata": {},
   "source": [
    "### [20,20] network"
   ]
  },
  {
   "cell_type": "code",
   "execution_count": 13,
   "id": "7c150171",
   "metadata": {},
   "outputs": [],
   "source": [
    "# declare a FastAI Learner object containing the data and the model\n",
    "learn2020 = tabular_learner(dls, metrics=AUPRC, layers=[20,20], loss_func=loss_func)"
   ]
  },
  {
   "cell_type": "code",
   "execution_count": 14,
   "id": "1e1314ca",
   "metadata": {},
   "outputs": [
    {
     "data": {
      "text/html": [
       "\n",
       "<style>\n",
       "    /* Turns off some styling */\n",
       "    progress {\n",
       "        /* gets rid of default border in Firefox and Opera. */\n",
       "        border: none;\n",
       "        /* Needs to be in here for Safari polyfill so background images work as expected. */\n",
       "        background-size: auto;\n",
       "    }\n",
       "    progress:not([value]), progress:not([value])::-webkit-progress-bar {\n",
       "        background: repeating-linear-gradient(45deg, #7e7e7e, #7e7e7e 10px, #5c5c5c 10px, #5c5c5c 20px);\n",
       "    }\n",
       "    .progress-bar-interrupted, .progress-bar-interrupted::-webkit-progress-bar {\n",
       "        background: #F44336;\n",
       "    }\n",
       "</style>\n"
      ],
      "text/plain": [
       "<IPython.core.display.HTML object>"
      ]
     },
     "metadata": {},
     "output_type": "display_data"
    },
    {
     "data": {
      "text/html": [],
      "text/plain": [
       "<IPython.core.display.HTML object>"
      ]
     },
     "metadata": {},
     "output_type": "display_data"
    },
    {
     "data": {
      "text/plain": [
       "SuggestedLRs(valley=0.0014454397605732083)"
      ]
     },
     "execution_count": 14,
     "metadata": {},
     "output_type": "execute_result"
    },
    {
     "data": {
      "image/png": "[encoded data removed]",
      "text/plain": [
       "<Figure size 640x480 with 1 Axes>"
      ]
     },
     "metadata": {},
     "output_type": "display_data"
    }
   ],
   "source": [
    "# find the optimal learning rate\n",
    "learn2020.lr_find()"
   ]
  },
  {
   "cell_type": "code",
   "execution_count": 15,
   "id": "a7782b87",
   "metadata": {},
   "outputs": [
    {
     "data": {
      "text/html": [
       "\n",
       "<style>\n",
       "    /* Turns off some styling */\n",
       "    progress {\n",
       "        /* gets rid of default border in Firefox and Opera. */\n",
       "        border: none;\n",
       "        /* Needs to be in here for Safari polyfill so background images work as expected. */\n",
       "        background-size: auto;\n",
       "    }\n",
       "    progress:not([value]), progress:not([value])::-webkit-progress-bar {\n",
       "        background: repeating-linear-gradient(45deg, #7e7e7e, #7e7e7e 10px, #5c5c5c 10px, #5c5c5c 20px);\n",
       "    }\n",
       "    .progress-bar-interrupted, .progress-bar-interrupted::-webkit-progress-bar {\n",
       "        background: #F44336;\n",
       "    }\n",
       "</style>\n"
      ],
      "text/plain": [
       "<IPython.core.display.HTML object>"
      ]
     },
     "metadata": {},
     "output_type": "display_data"
    },
    {
     "data": {
      "text/html": [
       "<table border=\"1\" class=\"dataframe\">\n",
       "  <thead>\n",
       "    <tr style=\"text-align: left;\">\n",
       "      <th>epoch</th>\n",
       "      <th>train_loss</th>\n",
       "      <th>valid_loss</th>\n",
       "      <th>average_precision_score</th>\n",
       "      <th>time</th>\n",
       "    </tr>\n",
       "  </thead>\n",
       "  <tbody>\n",
       "    <tr>\n",
       "      <td>0</td>\n",
       "      <td>0.675131</td>\n",
       "      <td>0.663572</td>\n",
       "      <td>0.448176</td>\n",
       "      <td>00:00</td>\n",
       "    </tr>\n",
       "    <tr>\n",
       "      <td>1</td>\n",
       "      <td>0.660988</td>\n",
       "      <td>0.634144</td>\n",
       "      <td>0.484101</td>\n",
       "      <td>00:00</td>\n",
       "    </tr>\n",
       "    <tr>\n",
       "      <td>2</td>\n",
       "      <td>0.654858</td>\n",
       "      <td>0.636455</td>\n",
       "      <td>0.492615</td>\n",
       "      <td>00:00</td>\n",
       "    </tr>\n",
       "    <tr>\n",
       "      <td>3</td>\n",
       "      <td>0.652202</td>\n",
       "      <td>0.634983</td>\n",
       "      <td>0.517904</td>\n",
       "      <td>00:00</td>\n",
       "    </tr>\n",
       "    <tr>\n",
       "      <td>4</td>\n",
       "      <td>0.650769</td>\n",
       "      <td>0.635332</td>\n",
       "      <td>0.493979</td>\n",
       "      <td>00:00</td>\n",
       "    </tr>\n",
       "    <tr>\n",
       "      <td>5</td>\n",
       "      <td>0.645478</td>\n",
       "      <td>0.635316</td>\n",
       "      <td>0.502035</td>\n",
       "      <td>00:00</td>\n",
       "    </tr>\n",
       "    <tr>\n",
       "      <td>6</td>\n",
       "      <td>0.641929</td>\n",
       "      <td>0.633407</td>\n",
       "      <td>0.509111</td>\n",
       "      <td>00:00</td>\n",
       "    </tr>\n",
       "    <tr>\n",
       "      <td>7</td>\n",
       "      <td>0.640483</td>\n",
       "      <td>0.633740</td>\n",
       "      <td>0.505284</td>\n",
       "      <td>00:00</td>\n",
       "    </tr>\n",
       "    <tr>\n",
       "      <td>8</td>\n",
       "      <td>0.639402</td>\n",
       "      <td>0.632392</td>\n",
       "      <td>0.500303</td>\n",
       "      <td>00:00</td>\n",
       "    </tr>\n",
       "    <tr>\n",
       "      <td>9</td>\n",
       "      <td>0.633570</td>\n",
       "      <td>0.631883</td>\n",
       "      <td>0.508729</td>\n",
       "      <td>00:00</td>\n",
       "    </tr>\n",
       "    <tr>\n",
       "      <td>10</td>\n",
       "      <td>0.626805</td>\n",
       "      <td>0.633380</td>\n",
       "      <td>0.505774</td>\n",
       "      <td>00:00</td>\n",
       "    </tr>\n",
       "    <tr>\n",
       "      <td>11</td>\n",
       "      <td>0.621727</td>\n",
       "      <td>0.633867</td>\n",
       "      <td>0.511294</td>\n",
       "      <td>00:00</td>\n",
       "    </tr>\n",
       "    <tr>\n",
       "      <td>12</td>\n",
       "      <td>0.615512</td>\n",
       "      <td>0.632951</td>\n",
       "      <td>0.516621</td>\n",
       "      <td>00:00</td>\n",
       "    </tr>\n",
       "    <tr>\n",
       "      <td>13</td>\n",
       "      <td>0.612425</td>\n",
       "      <td>0.634641</td>\n",
       "      <td>0.517136</td>\n",
       "      <td>00:00</td>\n",
       "    </tr>\n",
       "    <tr>\n",
       "      <td>14</td>\n",
       "      <td>0.612649</td>\n",
       "      <td>0.635517</td>\n",
       "      <td>0.516666</td>\n",
       "      <td>00:00</td>\n",
       "    </tr>\n",
       "  </tbody>\n",
       "</table>"
      ],
      "text/plain": [
       "<IPython.core.display.HTML object>"
      ]
     },
     "metadata": {},
     "output_type": "display_data"
    },
    {
     "name": "stdout",
     "output_type": "stream",
     "text": [
      "Better model found at epoch 0 with average_precision_score value: 0.44817569818774705.\n",
      "Better model found at epoch 1 with average_precision_score value: 0.48410081818373996.\n",
      "Better model found at epoch 2 with average_precision_score value: 0.49261523672192387.\n",
      "Better model found at epoch 3 with average_precision_score value: 0.5179035587108431.\n"
     ]
    }
   ],
   "source": [
    "# train the model using fit_one_cycle method which uses Leslie Smith's 1cycle policy\n",
    "# the model is trained for 15 epochs and SaveModelCallback registers the model with best average precision\n",
    "learn2020.fit_one_cycle(15, lr_max=1e-2, cbs=SaveModelCallback(monitor='average_precision_score', min_delta=0.001))"
   ]
  },
  {
   "cell_type": "markdown",
   "id": "1a6bc9bb",
   "metadata": {},
   "source": [
    "### [100,100] network"
   ]
  },
  {
   "cell_type": "code",
   "execution_count": 16,
   "id": "4f73014f",
   "metadata": {},
   "outputs": [],
   "source": [
    "# declare a FastAI Learner object containing the data and the model\n",
    "learn100100 = tabular_learner(dls, metrics=AUPRC, layers=[100,100], loss_func=loss_func)"
   ]
  },
  {
   "cell_type": "code",
   "execution_count": 17,
   "id": "6a1bc079",
   "metadata": {},
   "outputs": [
    {
     "data": {
      "text/html": [
       "\n",
       "<style>\n",
       "    /* Turns off some styling */\n",
       "    progress {\n",
       "        /* gets rid of default border in Firefox and Opera. */\n",
       "        border: none;\n",
       "        /* Needs to be in here for Safari polyfill so background images work as expected. */\n",
       "        background-size: auto;\n",
       "    }\n",
       "    progress:not([value]), progress:not([value])::-webkit-progress-bar {\n",
       "        background: repeating-linear-gradient(45deg, #7e7e7e, #7e7e7e 10px, #5c5c5c 10px, #5c5c5c 20px);\n",
       "    }\n",
       "    .progress-bar-interrupted, .progress-bar-interrupted::-webkit-progress-bar {\n",
       "        background: #F44336;\n",
       "    }\n",
       "</style>\n"
      ],
      "text/plain": [
       "<IPython.core.display.HTML object>"
      ]
     },
     "metadata": {},
     "output_type": "display_data"
    },
    {
     "data": {
      "text/html": [],
      "text/plain": [
       "<IPython.core.display.HTML object>"
      ]
     },
     "metadata": {},
     "output_type": "display_data"
    },
    {
     "data": {
      "text/plain": [
       "SuggestedLRs(valley=0.001737800776027143)"
      ]
     },
     "execution_count": 17,
     "metadata": {},
     "output_type": "execute_result"
    },
    {
     "data": {
      "image/png": "[encoded data removed]",
      "text/plain": [
       "<Figure size 640x480 with 1 Axes>"
      ]
     },
     "metadata": {},
     "output_type": "display_data"
    }
   ],
   "source": [
    "# find the optimal learning rate\n",
    "learn100100.lr_find()"
   ]
  },
  {
   "cell_type": "code",
   "execution_count": 18,
   "id": "c874896e",
   "metadata": {},
   "outputs": [
    {
     "data": {
      "text/html": [
       "\n",
       "<style>\n",
       "    /* Turns off some styling */\n",
       "    progress {\n",
       "        /* gets rid of default border in Firefox and Opera. */\n",
       "        border: none;\n",
       "        /* Needs to be in here for Safari polyfill so background images work as expected. */\n",
       "        background-size: auto;\n",
       "    }\n",
       "    progress:not([value]), progress:not([value])::-webkit-progress-bar {\n",
       "        background: repeating-linear-gradient(45deg, #7e7e7e, #7e7e7e 10px, #5c5c5c 10px, #5c5c5c 20px);\n",
       "    }\n",
       "    .progress-bar-interrupted, .progress-bar-interrupted::-webkit-progress-bar {\n",
       "        background: #F44336;\n",
       "    }\n",
       "</style>\n"
      ],
      "text/plain": [
       "<IPython.core.display.HTML object>"
      ]
     },
     "metadata": {},
     "output_type": "display_data"
    },
    {
     "data": {
      "text/html": [
       "<table border=\"1\" class=\"dataframe\">\n",
       "  <thead>\n",
       "    <tr style=\"text-align: left;\">\n",
       "      <th>epoch</th>\n",
       "      <th>train_loss</th>\n",
       "      <th>valid_loss</th>\n",
       "      <th>average_precision_score</th>\n",
       "      <th>time</th>\n",
       "    </tr>\n",
       "  </thead>\n",
       "  <tbody>\n",
       "    <tr>\n",
       "      <td>0</td>\n",
       "      <td>0.684633</td>\n",
       "      <td>0.676257</td>\n",
       "      <td>0.362058</td>\n",
       "      <td>00:00</td>\n",
       "    </tr>\n",
       "    <tr>\n",
       "      <td>1</td>\n",
       "      <td>0.684005</td>\n",
       "      <td>0.647208</td>\n",
       "      <td>0.465692</td>\n",
       "      <td>00:00</td>\n",
       "    </tr>\n",
       "    <tr>\n",
       "      <td>2</td>\n",
       "      <td>0.677673</td>\n",
       "      <td>0.639866</td>\n",
       "      <td>0.479706</td>\n",
       "      <td>00:00</td>\n",
       "    </tr>\n",
       "    <tr>\n",
       "      <td>3</td>\n",
       "      <td>0.668074</td>\n",
       "      <td>0.636587</td>\n",
       "      <td>0.490220</td>\n",
       "      <td>00:00</td>\n",
       "    </tr>\n",
       "    <tr>\n",
       "      <td>4</td>\n",
       "      <td>0.663651</td>\n",
       "      <td>0.644822</td>\n",
       "      <td>0.489876</td>\n",
       "      <td>00:00</td>\n",
       "    </tr>\n",
       "    <tr>\n",
       "      <td>5</td>\n",
       "      <td>0.655067</td>\n",
       "      <td>0.626439</td>\n",
       "      <td>0.502416</td>\n",
       "      <td>00:00</td>\n",
       "    </tr>\n",
       "    <tr>\n",
       "      <td>6</td>\n",
       "      <td>0.656111</td>\n",
       "      <td>0.644244</td>\n",
       "      <td>0.472408</td>\n",
       "      <td>00:00</td>\n",
       "    </tr>\n",
       "    <tr>\n",
       "      <td>7</td>\n",
       "      <td>0.649010</td>\n",
       "      <td>0.634526</td>\n",
       "      <td>0.505480</td>\n",
       "      <td>00:00</td>\n",
       "    </tr>\n",
       "    <tr>\n",
       "      <td>8</td>\n",
       "      <td>0.640667</td>\n",
       "      <td>0.657409</td>\n",
       "      <td>0.478772</td>\n",
       "      <td>00:00</td>\n",
       "    </tr>\n",
       "    <tr>\n",
       "      <td>9</td>\n",
       "      <td>0.636892</td>\n",
       "      <td>0.643824</td>\n",
       "      <td>0.486286</td>\n",
       "      <td>00:00</td>\n",
       "    </tr>\n",
       "    <tr>\n",
       "      <td>10</td>\n",
       "      <td>0.630559</td>\n",
       "      <td>0.640294</td>\n",
       "      <td>0.474550</td>\n",
       "      <td>00:00</td>\n",
       "    </tr>\n",
       "    <tr>\n",
       "      <td>11</td>\n",
       "      <td>0.620751</td>\n",
       "      <td>0.648281</td>\n",
       "      <td>0.493819</td>\n",
       "      <td>00:00</td>\n",
       "    </tr>\n",
       "    <tr>\n",
       "      <td>12</td>\n",
       "      <td>0.613879</td>\n",
       "      <td>0.643659</td>\n",
       "      <td>0.493772</td>\n",
       "      <td>00:00</td>\n",
       "    </tr>\n",
       "    <tr>\n",
       "      <td>13</td>\n",
       "      <td>0.607769</td>\n",
       "      <td>0.643561</td>\n",
       "      <td>0.486144</td>\n",
       "      <td>00:00</td>\n",
       "    </tr>\n",
       "    <tr>\n",
       "      <td>14</td>\n",
       "      <td>0.599399</td>\n",
       "      <td>0.641942</td>\n",
       "      <td>0.488029</td>\n",
       "      <td>00:00</td>\n",
       "    </tr>\n",
       "  </tbody>\n",
       "</table>"
      ],
      "text/plain": [
       "<IPython.core.display.HTML object>"
      ]
     },
     "metadata": {},
     "output_type": "display_data"
    },
    {
     "name": "stdout",
     "output_type": "stream",
     "text": [
      "Better model found at epoch 0 with average_precision_score value: 0.3620576551585959.\n",
      "Better model found at epoch 1 with average_precision_score value: 0.4656917333087076.\n",
      "Better model found at epoch 2 with average_precision_score value: 0.47970633408893737.\n",
      "Better model found at epoch 3 with average_precision_score value: 0.4902195420300568.\n",
      "Better model found at epoch 5 with average_precision_score value: 0.5024155507827789.\n",
      "Better model found at epoch 7 with average_precision_score value: 0.5054797559942739.\n"
     ]
    }
   ],
   "source": [
    "# train the model using fit_one_cycle method which uses Leslie Smith's 1cycle policy\n",
    "# the model is trained for 15 epochs and SaveModelCallback registers the model with best average precision\n",
    "learn100100.fit_one_cycle(15, lr_max=1e-2, cbs=SaveModelCallback(monitor='average_precision_score', min_delta=0.001))"
   ]
  },
  {
   "cell_type": "markdown",
   "id": "adaa04cc",
   "metadata": {},
   "source": [
    "The models are quite similar in terms of the best average precision score and all improve on the logistic regression validation results. Therefore, to reduce the risk of overfitting, the simplest, [5,5], network is chosen."
   ]
  },
  {
   "cell_type": "markdown",
   "id": "ab4fefee",
   "metadata": {},
   "source": [
    "### Model evaluation"
   ]
  },
  {
   "cell_type": "code",
   "execution_count": 19,
   "id": "f8c322d1",
   "metadata": {},
   "outputs": [
    {
     "data": {
      "text/html": [
       "\n",
       "<style>\n",
       "    /* Turns off some styling */\n",
       "    progress {\n",
       "        /* gets rid of default border in Firefox and Opera. */\n",
       "        border: none;\n",
       "        /* Needs to be in here for Safari polyfill so background images work as expected. */\n",
       "        background-size: auto;\n",
       "    }\n",
       "    progress:not([value]), progress:not([value])::-webkit-progress-bar {\n",
       "        background: repeating-linear-gradient(45deg, #7e7e7e, #7e7e7e 10px, #5c5c5c 10px, #5c5c5c 20px);\n",
       "    }\n",
       "    .progress-bar-interrupted, .progress-bar-interrupted::-webkit-progress-bar {\n",
       "        background: #F44336;\n",
       "    }\n",
       "</style>\n"
      ],
      "text/plain": [
       "<IPython.core.display.HTML object>"
      ]
     },
     "metadata": {},
     "output_type": "display_data"
    },
    {
     "data": {
      "text/html": [],
      "text/plain": [
       "<IPython.core.display.HTML object>"
      ]
     },
     "metadata": {},
     "output_type": "display_data"
    },
    {
     "name": "stdout",
     "output_type": "stream",
     "text": [
      "Average precision score: 0.482\n"
     ]
    }
   ],
   "source": [
    "# perform the exact same processing on the test set as on the training set\n",
    "test_dl = learn55.dls.test_dl(dataset_test)\n",
    "# get predictions and targets\n",
    "test_preds, test_targets = learn55.get_preds(dl=test_dl)\n",
    "# extract probabilities of belonging to the positive class\n",
    "y_pred_proba_test = test_preds[:, 1]\n",
    "# display the average precision score for the test data \n",
    "print('Average precision score: {0}'.format(round(AUPRC(y_pred_proba_test, test_targets),3)))"
   ]
  },
  {
   "cell_type": "markdown",
   "id": "e34f15bc",
   "metadata": {},
   "source": [
    "The difference between validation and test AUPRC scores suggests that the model did not overfit. The AUPRC score of 48.2% is also an improvement on the results of the logistic regression. Below, the model is used to make predictions. "
   ]
  },
  {
   "cell_type": "code",
   "execution_count": 20,
   "id": "e16652e2",
   "metadata": {},
   "outputs": [
    {
     "data": {
      "text/html": [
       "\n",
       "<style>\n",
       "    /* Turns off some styling */\n",
       "    progress {\n",
       "        /* gets rid of default border in Firefox and Opera. */\n",
       "        border: none;\n",
       "        /* Needs to be in here for Safari polyfill so background images work as expected. */\n",
       "        background-size: auto;\n",
       "    }\n",
       "    progress:not([value]), progress:not([value])::-webkit-progress-bar {\n",
       "        background: repeating-linear-gradient(45deg, #7e7e7e, #7e7e7e 10px, #5c5c5c 10px, #5c5c5c 20px);\n",
       "    }\n",
       "    .progress-bar-interrupted, .progress-bar-interrupted::-webkit-progress-bar {\n",
       "        background: #F44336;\n",
       "    }\n",
       "</style>\n"
      ],
      "text/plain": [
       "<IPython.core.display.HTML object>"
      ]
     },
     "metadata": {},
     "output_type": "display_data"
    },
    {
     "data": {
      "text/html": [],
      "text/plain": [
       "<IPython.core.display.HTML object>"
      ]
     },
     "metadata": {},
     "output_type": "display_data"
    },
    {
     "data": {
      "text/html": [
       "<div>\n",
       "<style scoped>\n",
       "    .dataframe tbody tr th:only-of-type {\n",
       "        vertical-align: middle;\n",
       "    }\n",
       "\n",
       "    .dataframe tbody tr th {\n",
       "        vertical-align: top;\n",
       "    }\n",
       "\n",
       "    .dataframe thead th {\n",
       "        text-align: right;\n",
       "    }\n",
       "</style>\n",
       "<table border=\"1\" class=\"dataframe\">\n",
       "  <thead>\n",
       "    <tr style=\"text-align: right;\">\n",
       "      <th></th>\n",
       "      <th>Name</th>\n",
       "      <th>Phone Number</th>\n",
       "      <th>Province</th>\n",
       "      <th>Sport</th>\n",
       "      <th>Game Attendance</th>\n",
       "      <th>Age</th>\n",
       "      <th>Applying Probability</th>\n",
       "    </tr>\n",
       "  </thead>\n",
       "  <tbody>\n",
       "    <tr>\n",
       "      <th>6012</th>\n",
       "      <td>Jalen Munoz</td>\n",
       "      <td>953081145902</td>\n",
       "      <td>Territories</td>\n",
       "      <td>baseball</td>\n",
       "      <td>0.95</td>\n",
       "      <td>34</td>\n",
       "      <td>0.850</td>\n",
       "    </tr>\n",
       "    <tr>\n",
       "      <th>4215</th>\n",
       "      <td>Barrett Davies</td>\n",
       "      <td>872706367564</td>\n",
       "      <td>Territories</td>\n",
       "      <td>tennis</td>\n",
       "      <td>0.87</td>\n",
       "      <td>20</td>\n",
       "      <td>0.832</td>\n",
       "    </tr>\n",
       "    <tr>\n",
       "      <th>2340</th>\n",
       "      <td>Malakai Goodman</td>\n",
       "      <td>99119489837</td>\n",
       "      <td>Saskatchewan</td>\n",
       "      <td>cricket</td>\n",
       "      <td>0.98</td>\n",
       "      <td>35</td>\n",
       "      <td>0.831</td>\n",
       "    </tr>\n",
       "    <tr>\n",
       "      <th>2017</th>\n",
       "      <td>Londyn Hawkins</td>\n",
       "      <td>389324709496</td>\n",
       "      <td>Territories</td>\n",
       "      <td>cricket</td>\n",
       "      <td>0.85</td>\n",
       "      <td>22</td>\n",
       "      <td>0.830</td>\n",
       "    </tr>\n",
       "    <tr>\n",
       "      <th>8093</th>\n",
       "      <td>Samson Morse</td>\n",
       "      <td>789008148185</td>\n",
       "      <td>Ontario</td>\n",
       "      <td>soccer</td>\n",
       "      <td>0.97</td>\n",
       "      <td>22</td>\n",
       "      <td>0.830</td>\n",
       "    </tr>\n",
       "    <tr>\n",
       "      <th>4003</th>\n",
       "      <td>Lainey Olsen</td>\n",
       "      <td>308136338463</td>\n",
       "      <td>Saskatchewan</td>\n",
       "      <td>soccer</td>\n",
       "      <td>0.94</td>\n",
       "      <td>19</td>\n",
       "      <td>0.827</td>\n",
       "    </tr>\n",
       "    <tr>\n",
       "      <th>1174</th>\n",
       "      <td>Zain Douglas</td>\n",
       "      <td>616222067438</td>\n",
       "      <td>Ontario</td>\n",
       "      <td>baseball</td>\n",
       "      <td>0.99</td>\n",
       "      <td>28</td>\n",
       "      <td>0.826</td>\n",
       "    </tr>\n",
       "    <tr>\n",
       "      <th>2917</th>\n",
       "      <td>Salma Koch</td>\n",
       "      <td>38618072022</td>\n",
       "      <td>Saskatchewan</td>\n",
       "      <td>soccer</td>\n",
       "      <td>0.96</td>\n",
       "      <td>43</td>\n",
       "      <td>0.823</td>\n",
       "    </tr>\n",
       "    <tr>\n",
       "      <th>5009</th>\n",
       "      <td>Aldo Jefferson</td>\n",
       "      <td>119552201307</td>\n",
       "      <td>Ontario</td>\n",
       "      <td>baseball</td>\n",
       "      <td>0.97</td>\n",
       "      <td>24</td>\n",
       "      <td>0.822</td>\n",
       "    </tr>\n",
       "    <tr>\n",
       "      <th>1271</th>\n",
       "      <td>Fernando Conner</td>\n",
       "      <td>496562654379</td>\n",
       "      <td>Ontario</td>\n",
       "      <td>soccer</td>\n",
       "      <td>0.96</td>\n",
       "      <td>39</td>\n",
       "      <td>0.819</td>\n",
       "    </tr>\n",
       "  </tbody>\n",
       "</table>\n",
       "</div>"
      ],
      "text/plain": [
       "                 Name  Phone Number      Province     Sport  Game Attendance  \\\n",
       "6012      Jalen Munoz  953081145902   Territories  baseball             0.95   \n",
       "4215   Barrett Davies  872706367564   Territories    tennis             0.87   \n",
       "2340  Malakai Goodman   99119489837  Saskatchewan   cricket             0.98   \n",
       "2017   Londyn Hawkins  389324709496   Territories   cricket             0.85   \n",
       "8093     Samson Morse  789008148185       Ontario    soccer             0.97   \n",
       "4003     Lainey Olsen  308136338463  Saskatchewan    soccer             0.94   \n",
       "1174     Zain Douglas  616222067438       Ontario  baseball             0.99   \n",
       "2917       Salma Koch   38618072022  Saskatchewan    soccer             0.96   \n",
       "5009   Aldo Jefferson  119552201307       Ontario  baseball             0.97   \n",
       "1271  Fernando Conner  496562654379       Ontario    soccer             0.96   \n",
       "\n",
       "      Age  Applying Probability  \n",
       "6012   34                 0.850  \n",
       "4215   20                 0.832  \n",
       "2340   35                 0.831  \n",
       "2017   22                 0.830  \n",
       "8093   22                 0.830  \n",
       "4003   19                 0.827  \n",
       "1174   28                 0.826  \n",
       "2917   43                 0.823  \n",
       "5009   24                 0.822  \n",
       "1271   39                 0.819  "
      ]
     },
     "execution_count": 20,
     "metadata": {},
     "output_type": "execute_result"
    }
   ],
   "source": [
    "# perform the exact same processing on the predict set as on the training and test sets\n",
    "predict_dl = learn55.dls.test_dl(dataset_predict, with_labels=False)\n",
    "# get predictions\n",
    "preds, _ = learn55.get_preds(dl=predict_dl)\n",
    "# extract probabilities of belonging to the positive class\n",
    "y_pred_proba = preds[:, 1]\n",
    "# add results to the dataset\n",
    "dataset_predict['Applying Probability'] = np.round(y_pred_proba,3)\n",
    "# sort the uncalled leads from the biggest probability to apply to the smallest\n",
    "dataset_predict = dataset_predict.sort_values(by='Applying Probability', ascending=False)\n",
    "# display the dataframe\n",
    "dataset_predict.head(10)"
   ]
  },
  {
   "cell_type": "code",
   "execution_count": 21,
   "id": "c7e9e284",
   "metadata": {},
   "outputs": [
    {
     "data": {
      "text/plain": [
       "0.764"
      ]
     },
     "execution_count": 21,
     "metadata": {},
     "output_type": "execute_result"
    }
   ],
   "source": [
    "# check the probability of the 100th most likely to apply person\n",
    "dataset_predict.iloc[99, dataset_predict.columns.get_loc('Applying Probability')]"
   ]
  },
  {
   "cell_type": "code",
   "execution_count": 22,
   "id": "dedd321c",
   "metadata": {},
   "outputs": [
    {
     "data": {
      "text/html": [
       "<div>\n",
       "<style scoped>\n",
       "    .dataframe tbody tr th:only-of-type {\n",
       "        vertical-align: middle;\n",
       "    }\n",
       "\n",
       "    .dataframe tbody tr th {\n",
       "        vertical-align: top;\n",
       "    }\n",
       "\n",
       "    .dataframe thead th {\n",
       "        text-align: right;\n",
       "    }\n",
       "</style>\n",
       "<table border=\"1\" class=\"dataframe\">\n",
       "  <thead>\n",
       "    <tr style=\"text-align: right;\">\n",
       "      <th></th>\n",
       "      <th>Name</th>\n",
       "      <th>Phone Number</th>\n",
       "      <th>Applying Probability</th>\n",
       "    </tr>\n",
       "  </thead>\n",
       "  <tbody>\n",
       "    <tr>\n",
       "      <th>6012</th>\n",
       "      <td>Jalen Munoz</td>\n",
       "      <td>953081145902</td>\n",
       "      <td>0.850</td>\n",
       "    </tr>\n",
       "    <tr>\n",
       "      <th>4215</th>\n",
       "      <td>Barrett Davies</td>\n",
       "      <td>872706367564</td>\n",
       "      <td>0.832</td>\n",
       "    </tr>\n",
       "    <tr>\n",
       "      <th>2340</th>\n",
       "      <td>Malakai Goodman</td>\n",
       "      <td>99119489837</td>\n",
       "      <td>0.831</td>\n",
       "    </tr>\n",
       "    <tr>\n",
       "      <th>2017</th>\n",
       "      <td>Londyn Hawkins</td>\n",
       "      <td>389324709496</td>\n",
       "      <td>0.830</td>\n",
       "    </tr>\n",
       "    <tr>\n",
       "      <th>8093</th>\n",
       "      <td>Samson Morse</td>\n",
       "      <td>789008148185</td>\n",
       "      <td>0.830</td>\n",
       "    </tr>\n",
       "    <tr>\n",
       "      <th>4003</th>\n",
       "      <td>Lainey Olsen</td>\n",
       "      <td>308136338463</td>\n",
       "      <td>0.827</td>\n",
       "    </tr>\n",
       "    <tr>\n",
       "      <th>1174</th>\n",
       "      <td>Zain Douglas</td>\n",
       "      <td>616222067438</td>\n",
       "      <td>0.826</td>\n",
       "    </tr>\n",
       "    <tr>\n",
       "      <th>2917</th>\n",
       "      <td>Salma Koch</td>\n",
       "      <td>38618072022</td>\n",
       "      <td>0.823</td>\n",
       "    </tr>\n",
       "    <tr>\n",
       "      <th>5009</th>\n",
       "      <td>Aldo Jefferson</td>\n",
       "      <td>119552201307</td>\n",
       "      <td>0.822</td>\n",
       "    </tr>\n",
       "    <tr>\n",
       "      <th>1271</th>\n",
       "      <td>Fernando Conner</td>\n",
       "      <td>496562654379</td>\n",
       "      <td>0.819</td>\n",
       "    </tr>\n",
       "  </tbody>\n",
       "</table>\n",
       "</div>"
      ],
      "text/plain": [
       "                 Name  Phone Number  Applying Probability\n",
       "6012      Jalen Munoz  953081145902                 0.850\n",
       "4215   Barrett Davies  872706367564                 0.832\n",
       "2340  Malakai Goodman   99119489837                 0.831\n",
       "2017   Londyn Hawkins  389324709496                 0.830\n",
       "8093     Samson Morse  789008148185                 0.830\n",
       "4003     Lainey Olsen  308136338463                 0.827\n",
       "1174     Zain Douglas  616222067438                 0.826\n",
       "2917       Salma Koch   38618072022                 0.823\n",
       "5009   Aldo Jefferson  119552201307                 0.822\n",
       "1271  Fernando Conner  496562654379                 0.819"
      ]
     },
     "execution_count": 22,
     "metadata": {},
     "output_type": "execute_result"
    }
   ],
   "source": [
    "# save the results to a new dataframe\n",
    "best_leads = dataset_predict.iloc[:100][['Name', 'Phone Number', 'Applying Probability']]\n",
    "best_leads.head(10)"
   ]
  },
  {
   "cell_type": "markdown",
   "id": "e1d3ffa6",
   "metadata": {},
   "source": [
    "The obtained dataframe contains names, phone numbers and application probabilities of 100 most promising leads. The dataframe can be exported to csv using the following line of code:\n",
    "\n",
    "best_leads.to_csv('best_leads.csv', index=False)"
   ]
  }
 ],
 "metadata": {
  "kernelspec": {
   "display_name": "Python 3 (ipykernel)",
   "language": "python",
   "name": "python3"
  },
  "language_info": {
   "codemirror_mode": {
    "name": "ipython",
    "version": 3
   },
   "file_extension": ".py",
   "mimetype": "text/x-python",
   "name": "python",
   "nbconvert_exporter": "python",
   "pygments_lexer": "ipython3",
   "version": "3.10.11"
  }
 },
 "nbformat": 4,
 "nbformat_minor": 5
}
