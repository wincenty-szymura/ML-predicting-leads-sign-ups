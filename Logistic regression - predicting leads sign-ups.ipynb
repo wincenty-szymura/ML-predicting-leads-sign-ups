{
 "cells": [
  {
   "cell_type": "markdown",
   "id": "951d7c23",
   "metadata": {},
   "source": [
    "# Predicting sign-ups to a membership programme using logistic regression\n",
    "\n",
    "The goal is to obtain probabilities of leads applying to a membership programme with a Canadian sport society after being called by one of the society's call centers and to predict the most likely 100 leads to sign up. The programme has restrictions on member intake, so applications can get rejected."
   ]
  },
  {
   "cell_type": "markdown",
   "id": "406c2203",
   "metadata": {},
   "source": [
    "## Overview of methodology\n",
    "- initial housekeeping (libraries, loading data)\n",
    "- exploratory data analysis (data examination, data cleaning, data correlation, histograms)\n",
    "- feature engineering (feature encoding, feature scaling)\n",
    "- model & predictions (model building, model evaluation, making predictions)"
   ]
  },
  {
   "cell_type": "markdown",
   "id": "4c0e78a0",
   "metadata": {},
   "source": [
    "## Initial housekeeping"
   ]
  },
  {
   "cell_type": "markdown",
   "id": "95d3663f",
   "metadata": {},
   "source": [
    "### Import the relevant libraries"
   ]
  },
  {
   "cell_type": "code",
   "execution_count": 1,
   "id": "1d8229fb",
   "metadata": {},
   "outputs": [],
   "source": [
    "import pandas as pd\n",
    "import numpy as np\n",
    "import matplotlib.pyplot as plt\n",
    "from sklearn.preprocessing import StandardScaler\n",
    "from sklearn.linear_model import LogisticRegression\n",
    "from sklearn.model_selection import train_test_split, cross_val_score\n",
    "from sklearn.metrics import average_precision_score"
   ]
  },
  {
   "cell_type": "markdown",
   "id": "3decb527",
   "metadata": {},
   "source": [
    "### Load the dataset"
   ]
  },
  {
   "cell_type": "code",
   "execution_count": 2,
   "id": "e12fb4a4",
   "metadata": {},
   "outputs": [],
   "source": [
    "# load data\n",
    "dataset = pd.read_csv('regression_dataset.csv')"
   ]
  },
  {
   "cell_type": "markdown",
   "id": "fae6e242",
   "metadata": {},
   "source": [
    "## Exploratory data analysis"
   ]
  },
  {
   "cell_type": "code",
   "execution_count": 3,
   "id": "73850c6f",
   "metadata": {},
   "outputs": [
    {
     "data": {
      "text/html": [
       "<div>\n",
       "<style scoped>\n",
       "    .dataframe tbody tr th:only-of-type {\n",
       "        vertical-align: middle;\n",
       "    }\n",
       "\n",
       "    .dataframe tbody tr th {\n",
       "        vertical-align: top;\n",
       "    }\n",
       "\n",
       "    .dataframe thead th {\n",
       "        text-align: right;\n",
       "    }\n",
       "</style>\n",
       "<table border=\"1\" class=\"dataframe\">\n",
       "  <thead>\n",
       "    <tr style=\"text-align: right;\">\n",
       "      <th></th>\n",
       "      <th>Name</th>\n",
       "      <th>Phone Number</th>\n",
       "      <th>Province</th>\n",
       "      <th>Sport</th>\n",
       "      <th>Game Attendance</th>\n",
       "      <th>Age</th>\n",
       "      <th>Called</th>\n",
       "      <th>Call Center</th>\n",
       "      <th>Call Outcome</th>\n",
       "      <th>Applied</th>\n",
       "      <th>Decision</th>\n",
       "    </tr>\n",
       "  </thead>\n",
       "  <tbody>\n",
       "    <tr>\n",
       "      <th>0</th>\n",
       "      <td>Miya Charles</td>\n",
       "      <td>728190618071</td>\n",
       "      <td>New Brunswick</td>\n",
       "      <td>rugby</td>\n",
       "      <td>0.20</td>\n",
       "      <td>33</td>\n",
       "      <td>False</td>\n",
       "      <td>East</td>\n",
       "      <td>NaN</td>\n",
       "      <td>NaN</td>\n",
       "      <td>NaN</td>\n",
       "    </tr>\n",
       "    <tr>\n",
       "      <th>1</th>\n",
       "      <td>Deangelo Cobb</td>\n",
       "      <td>255217276432</td>\n",
       "      <td>Alberta</td>\n",
       "      <td>soccer</td>\n",
       "      <td>0.81</td>\n",
       "      <td>24</td>\n",
       "      <td>False</td>\n",
       "      <td>West</td>\n",
       "      <td>NaN</td>\n",
       "      <td>NaN</td>\n",
       "      <td>NaN</td>\n",
       "    </tr>\n",
       "    <tr>\n",
       "      <th>2</th>\n",
       "      <td>Adam Rogers</td>\n",
       "      <td>538482482123</td>\n",
       "      <td>Ontario</td>\n",
       "      <td>baseball</td>\n",
       "      <td>0.30</td>\n",
       "      <td>33</td>\n",
       "      <td>False</td>\n",
       "      <td>South</td>\n",
       "      <td>NaN</td>\n",
       "      <td>NaN</td>\n",
       "      <td>NaN</td>\n",
       "    </tr>\n",
       "    <tr>\n",
       "      <th>3</th>\n",
       "      <td>Demarion Dudley</td>\n",
       "      <td>913979679898</td>\n",
       "      <td>British Columbia</td>\n",
       "      <td>ice hockey</td>\n",
       "      <td>0.43</td>\n",
       "      <td>26</td>\n",
       "      <td>False</td>\n",
       "      <td>West</td>\n",
       "      <td>NaN</td>\n",
       "      <td>NaN</td>\n",
       "      <td>NaN</td>\n",
       "    </tr>\n",
       "    <tr>\n",
       "      <th>4</th>\n",
       "      <td>Scott Medina</td>\n",
       "      <td>676902221026</td>\n",
       "      <td>Ontario</td>\n",
       "      <td>ice hockey</td>\n",
       "      <td>0.36</td>\n",
       "      <td>25</td>\n",
       "      <td>False</td>\n",
       "      <td>South</td>\n",
       "      <td>NaN</td>\n",
       "      <td>NaN</td>\n",
       "      <td>NaN</td>\n",
       "    </tr>\n",
       "    <tr>\n",
       "      <th>5</th>\n",
       "      <td>Tessa Lowe</td>\n",
       "      <td>822568222276</td>\n",
       "      <td>Nova Scotia</td>\n",
       "      <td>rugby</td>\n",
       "      <td>0.66</td>\n",
       "      <td>29</td>\n",
       "      <td>False</td>\n",
       "      <td>East</td>\n",
       "      <td>NaN</td>\n",
       "      <td>NaN</td>\n",
       "      <td>NaN</td>\n",
       "    </tr>\n",
       "    <tr>\n",
       "      <th>6</th>\n",
       "      <td>Jaylin Bailey</td>\n",
       "      <td>422215394903</td>\n",
       "      <td>British Columbia</td>\n",
       "      <td>ice hockey</td>\n",
       "      <td>0.61</td>\n",
       "      <td>25</td>\n",
       "      <td>False</td>\n",
       "      <td>West</td>\n",
       "      <td>NaN</td>\n",
       "      <td>NaN</td>\n",
       "      <td>NaN</td>\n",
       "    </tr>\n",
       "    <tr>\n",
       "      <th>7</th>\n",
       "      <td>Francisco Curtis</td>\n",
       "      <td>775967173668</td>\n",
       "      <td>Alberta</td>\n",
       "      <td>soccer</td>\n",
       "      <td>0.40</td>\n",
       "      <td>20</td>\n",
       "      <td>True</td>\n",
       "      <td>West</td>\n",
       "      <td>interested</td>\n",
       "      <td>True</td>\n",
       "      <td>rejected</td>\n",
       "    </tr>\n",
       "    <tr>\n",
       "      <th>8</th>\n",
       "      <td>Osvaldo Griffin</td>\n",
       "      <td>596918287046</td>\n",
       "      <td>British Columbia</td>\n",
       "      <td>cricket</td>\n",
       "      <td>0.30</td>\n",
       "      <td>28</td>\n",
       "      <td>False</td>\n",
       "      <td>West</td>\n",
       "      <td>NaN</td>\n",
       "      <td>NaN</td>\n",
       "      <td>NaN</td>\n",
       "    </tr>\n",
       "    <tr>\n",
       "      <th>9</th>\n",
       "      <td>Yoselin Moyer</td>\n",
       "      <td>242633357110</td>\n",
       "      <td>Ontario</td>\n",
       "      <td>tennis</td>\n",
       "      <td>0.31</td>\n",
       "      <td>22</td>\n",
       "      <td>True</td>\n",
       "      <td>South</td>\n",
       "      <td>not interested</td>\n",
       "      <td>False</td>\n",
       "      <td>NaN</td>\n",
       "    </tr>\n",
       "  </tbody>\n",
       "</table>\n",
       "</div>"
      ],
      "text/plain": [
       "               Name  Phone Number          Province       Sport  \\\n",
       "0      Miya Charles  728190618071     New Brunswick       rugby   \n",
       "1     Deangelo Cobb  255217276432           Alberta      soccer   \n",
       "2       Adam Rogers  538482482123           Ontario    baseball   \n",
       "3   Demarion Dudley  913979679898  British Columbia  ice hockey   \n",
       "4      Scott Medina  676902221026           Ontario  ice hockey   \n",
       "5        Tessa Lowe  822568222276       Nova Scotia       rugby   \n",
       "6     Jaylin Bailey  422215394903  British Columbia  ice hockey   \n",
       "7  Francisco Curtis  775967173668           Alberta      soccer   \n",
       "8   Osvaldo Griffin  596918287046  British Columbia     cricket   \n",
       "9     Yoselin Moyer  242633357110           Ontario      tennis   \n",
       "\n",
       "   Game Attendance  Age  Called Call Center    Call Outcome Applied  Decision  \n",
       "0             0.20   33   False        East             NaN     NaN       NaN  \n",
       "1             0.81   24   False        West             NaN     NaN       NaN  \n",
       "2             0.30   33   False       South             NaN     NaN       NaN  \n",
       "3             0.43   26   False        West             NaN     NaN       NaN  \n",
       "4             0.36   25   False       South             NaN     NaN       NaN  \n",
       "5             0.66   29   False        East             NaN     NaN       NaN  \n",
       "6             0.61   25   False        West             NaN     NaN       NaN  \n",
       "7             0.40   20    True        West      interested    True  rejected  \n",
       "8             0.30   28   False        West             NaN     NaN       NaN  \n",
       "9             0.31   22    True       South  not interested   False       NaN  "
      ]
     },
     "execution_count": 3,
     "metadata": {},
     "output_type": "execute_result"
    }
   ],
   "source": [
    "# display the data\n",
    "dataset.head(10)"
   ]
  },
  {
   "cell_type": "markdown",
   "id": "da58d1ce",
   "metadata": {},
   "source": [
    "The dataset to be used for analysis is contained in a single spreadsheet, displayed above. Apart from basic lead data - *Name*, *Phone Number*, *Province* and *Age* (in years), leads' favourite sport and game attendance data are available, obtained through a 5-year-long partnership with Canadian central sport ticket distribution company. *Game Attendance* is a 5-year average percentage of attended home league games of a team for which lead's attendance is the biggest. *Sport* is determined based on what sport the team with the highest *Game Attendance* is playing. In both cases only games for which tickets were purchased through the distribution company are counted towards attended games.  \n",
    "\n",
    "The loaded dataset contains both leads that have already been called and ones that have not been, determined by the *Called* variable. From the perspective of the programme, these are the datasets which will be used for regression training and testing and the dataset on which the predictions will be made. They will be separated at a later stage, however, it is beneficial to keep them as a single dataframe for now.\n",
    "\n",
    "*Call Center* determines which call center the lead was / would be called from. *Call Outcome* is marked down after a call from a fixed list. *Applied* determines whether the lead applied to the programme after the call, and *Decision* determines if they were approved or rejected\n",
    "\n",
    "The lead data do not represent real people but is a realistic representation of real-life business data available for such analysis. "
   ]
  },
  {
   "cell_type": "code",
   "execution_count": 4,
   "id": "3fcd7019",
   "metadata": {},
   "outputs": [
    {
     "data": {
      "text/plain": [
       "Name                  0\n",
       "Phone Number          0\n",
       "Province              0\n",
       "Sport                 0\n",
       "Game Attendance       0\n",
       "Age                   0\n",
       "Called                0\n",
       "Call Center           0\n",
       "Call Outcome       7280\n",
       "Applied            7280\n",
       "Decision           9231\n",
       "dtype: int64"
      ]
     },
     "execution_count": 4,
     "metadata": {},
     "output_type": "execute_result"
    }
   ],
   "source": [
    "# check for missing values\n",
    "dataset.isna().sum() "
   ]
  },
  {
   "cell_type": "code",
   "execution_count": 5,
   "id": "856e847e",
   "metadata": {},
   "outputs": [
    {
     "data": {
      "text/plain": [
       "7280"
      ]
     },
     "execution_count": 5,
     "metadata": {},
     "output_type": "execute_result"
    }
   ],
   "source": [
    "# check how many leads have not been called yet\n",
    "len(dataset[dataset['Called'] == False])"
   ]
  },
  {
   "cell_type": "code",
   "execution_count": 6,
   "id": "bf4119b9",
   "metadata": {},
   "outputs": [
    {
     "data": {
      "text/plain": [
       "Series([], Name: count, dtype: int64)"
      ]
     },
     "execution_count": 6,
     "metadata": {},
     "output_type": "execute_result"
    }
   ],
   "source": [
    "# check what values Applied takes for leads that have not been called\n",
    "dataset[dataset['Called']==False]['Applied'].value_counts()"
   ]
  },
  {
   "cell_type": "markdown",
   "id": "1cae5c7d",
   "metadata": {},
   "source": [
    "The only missing values are in the last 3 columns. *Call Outcome* and *Decision* are of no interest in this particular problem, so they can be disregarded. However, the missing values make sense - they should be missing for leads that have not been called and have not applied, respecively.  \n",
    "\n",
    "For *Applied* it can be seen that all the missing values are rows of leads that have not been called yet which is expected."
   ]
  },
  {
   "cell_type": "code",
   "execution_count": 7,
   "id": "2d09459b",
   "metadata": {},
   "outputs": [
    {
     "data": {
      "text/html": [
       "<div>\n",
       "<style scoped>\n",
       "    .dataframe tbody tr th:only-of-type {\n",
       "        vertical-align: middle;\n",
       "    }\n",
       "\n",
       "    .dataframe tbody tr th {\n",
       "        vertical-align: top;\n",
       "    }\n",
       "\n",
       "    .dataframe thead th {\n",
       "        text-align: right;\n",
       "    }\n",
       "</style>\n",
       "<table border=\"1\" class=\"dataframe\">\n",
       "  <thead>\n",
       "    <tr style=\"text-align: right;\">\n",
       "      <th></th>\n",
       "      <th>Phone Number</th>\n",
       "      <th>Game Attendance</th>\n",
       "      <th>Age</th>\n",
       "    </tr>\n",
       "  </thead>\n",
       "  <tbody>\n",
       "    <tr>\n",
       "      <th>count</th>\n",
       "      <td>1.000000e+04</td>\n",
       "      <td>10000.000000</td>\n",
       "      <td>10000.000000</td>\n",
       "    </tr>\n",
       "    <tr>\n",
       "      <th>mean</th>\n",
       "      <td>4.994903e+11</td>\n",
       "      <td>0.441094</td>\n",
       "      <td>37.108000</td>\n",
       "    </tr>\n",
       "    <tr>\n",
       "      <th>std</th>\n",
       "      <td>2.914145e+11</td>\n",
       "      <td>0.220783</td>\n",
       "      <td>19.395968</td>\n",
       "    </tr>\n",
       "    <tr>\n",
       "      <th>min</th>\n",
       "      <td>3.807313e+07</td>\n",
       "      <td>0.060000</td>\n",
       "      <td>18.000000</td>\n",
       "    </tr>\n",
       "    <tr>\n",
       "      <th>25%</th>\n",
       "      <td>2.508587e+11</td>\n",
       "      <td>0.260000</td>\n",
       "      <td>23.000000</td>\n",
       "    </tr>\n",
       "    <tr>\n",
       "      <th>50%</th>\n",
       "      <td>4.950398e+11</td>\n",
       "      <td>0.430000</td>\n",
       "      <td>31.000000</td>\n",
       "    </tr>\n",
       "    <tr>\n",
       "      <th>75%</th>\n",
       "      <td>7.568304e+11</td>\n",
       "      <td>0.610000</td>\n",
       "      <td>44.000000</td>\n",
       "    </tr>\n",
       "    <tr>\n",
       "      <th>max</th>\n",
       "      <td>9.999539e+11</td>\n",
       "      <td>1.000000</td>\n",
       "      <td>201.000000</td>\n",
       "    </tr>\n",
       "  </tbody>\n",
       "</table>\n",
       "</div>"
      ],
      "text/plain": [
       "       Phone Number  Game Attendance           Age\n",
       "count  1.000000e+04     10000.000000  10000.000000\n",
       "mean   4.994903e+11         0.441094     37.108000\n",
       "std    2.914145e+11         0.220783     19.395968\n",
       "min    3.807313e+07         0.060000     18.000000\n",
       "25%    2.508587e+11         0.260000     23.000000\n",
       "50%    4.950398e+11         0.430000     31.000000\n",
       "75%    7.568304e+11         0.610000     44.000000\n",
       "max    9.999539e+11         1.000000    201.000000"
      ]
     },
     "execution_count": 7,
     "metadata": {},
     "output_type": "execute_result"
    }
   ],
   "source": [
    "# check basic statistics of numerical columns\n",
    "dataset.describe()"
   ]
  },
  {
   "cell_type": "markdown",
   "id": "e9eb89c9",
   "metadata": {},
   "source": [
    "### Age column cleaning"
   ]
  },
  {
   "cell_type": "code",
   "execution_count": 8,
   "id": "26283956",
   "metadata": {},
   "outputs": [
    {
     "name": "stdout",
     "output_type": "stream",
     "text": [
      "[201, 197, 177, 176, 168, 161, 158, 156, 155, 153, 149, 148, 147, 146, 145, 144, 142, 141, 140, 139, 137, 136, 132, 130, 129, 128, 127, 126, 125, 124, 123, 122, 121, 120, 119, 118, 117, 116, 115, 114, 113, 112, 111, 110, 109, 108, 107, 106, 105, 104, 103, 102, 101, 100, 99, 98, 97, 96, 95, 94, 93, 92, 91, 90, 89, 88, 87, 86, 85, 84, 83, 82, 81, 80, 79, 78, 77, 76, 75, 74, 73, 72, 71, 70, 69, 68, 67, 66, 65, 64, 63, 62, 61, 60, 59, 58, 57, 56, 55, 54, 53, 52, 51, 50, 49, 48, 47, 46, 45, 44, 43, 42, 41, 40, 39, 38, 37, 36, 35, 34, 33, 32, 31, 30, 29, 28, 27, 26, 25, 24, 23, 22, 21, 20, 19, 18]\n"
     ]
    }
   ],
   "source": [
    "# print all unique Age values\n",
    "print(sorted(dataset['Age'].unique(),reverse=True))"
   ]
  },
  {
   "cell_type": "markdown",
   "id": "af1b43d6",
   "metadata": {},
   "source": [
    "*Age* max value of 201 is unrealistically high. It can be also seen that it is followed by a number of smaller but still urealistic values. With the available knowledge it is hard to say how those high values appeared there and what the actual *Age* values are for those leads. Therefore, it was deemed suboptimal to try to substitute the high values with *Age* median or mode, or setting all values above certain threshold to that threshold (however, all these approaches have been tried and were not found to improve the model's performance). Keeping the values was also decided againts, as modelling sign-up probability for people of unreaslistic age makes little sense. Therefore, it was decided that such applications are best disregarded if they do not constitute too big a fraction of the entire dataset. "
   ]
  },
  {
   "cell_type": "code",
   "execution_count": 9,
   "id": "5b7d4486",
   "metadata": {},
   "outputs": [
    {
     "data": {
      "text/plain": [
       "134"
      ]
     },
     "execution_count": 9,
     "metadata": {},
     "output_type": "execute_result"
    }
   ],
   "source": [
    "# a quick check to get an idea of proportion of data that might be disregarded\n",
    "len(dataset[dataset['Age'] > 100])"
   ]
  },
  {
   "cell_type": "markdown",
   "id": "821cfeb4",
   "metadata": {},
   "source": [
    "134 rows constitute a fairly small fraction of the dataset so any threshold above 100 will be acceptable. One of the approaches that can be taken is finding the maximum age for which an application was approved, as it seems to be more likely that such a  lead was screened in more detail and their age is correct."
   ]
  },
  {
   "cell_type": "code",
   "execution_count": 10,
   "id": "3d3b1e4c",
   "metadata": {},
   "outputs": [
    {
     "data": {
      "text/plain": [
       "105"
      ]
     },
     "execution_count": 10,
     "metadata": {},
     "output_type": "execute_result"
    }
   ],
   "source": [
    "# find the max age for approved application\n",
    "dataset.loc[dataset['Decision'] == 'approved', 'Age'].max()"
   ]
  },
  {
   "cell_type": "markdown",
   "id": "e5a81519",
   "metadata": {},
   "source": [
    "The highest *Age* for an approved application is 105 - above 100 and realistic (even if unlikely). The value will be used as the threshold. Below the exact percentage of leads over that age is calculated."
   ]
  },
  {
   "cell_type": "code",
   "execution_count": 11,
   "id": "3c6967cc",
   "metadata": {},
   "outputs": [
    {
     "data": {
      "text/html": [
       "<div>\n",
       "<style scoped>\n",
       "    .dataframe tbody tr th:only-of-type {\n",
       "        vertical-align: middle;\n",
       "    }\n",
       "\n",
       "    .dataframe tbody tr th {\n",
       "        vertical-align: top;\n",
       "    }\n",
       "\n",
       "    .dataframe thead th {\n",
       "        text-align: right;\n",
       "    }\n",
       "</style>\n",
       "<table border=\"1\" class=\"dataframe\">\n",
       "  <thead>\n",
       "    <tr style=\"text-align: right;\">\n",
       "      <th></th>\n",
       "      <th>Over 105</th>\n",
       "      <th>Total</th>\n",
       "      <th>Percentage</th>\n",
       "    </tr>\n",
       "  </thead>\n",
       "  <tbody>\n",
       "    <tr>\n",
       "      <th>Called</th>\n",
       "      <td>32</td>\n",
       "      <td>2720</td>\n",
       "      <td>0.012</td>\n",
       "    </tr>\n",
       "    <tr>\n",
       "      <th>Total</th>\n",
       "      <td>107</td>\n",
       "      <td>10000</td>\n",
       "      <td>0.011</td>\n",
       "    </tr>\n",
       "  </tbody>\n",
       "</table>\n",
       "</div>"
      ],
      "text/plain": [
       "        Over 105  Total  Percentage\n",
       "Called        32   2720       0.012\n",
       "Total        107  10000       0.011"
      ]
     },
     "execution_count": 11,
     "metadata": {},
     "output_type": "execute_result"
    }
   ],
   "source": [
    "# calculate percentage of leads and called leads over 105 according to the provided data\n",
    "called_over105 = len(dataset[(dataset['Age'] > 105) & (dataset['Called'])]) # leads over 105 which were called\n",
    "over105 = len(dataset[dataset['Age'] > 105]) # all leads over 105\n",
    "called = len(dataset[dataset['Called']]) # leads which were called\n",
    "percentage_called = round(called_over105/called,3) # percentage of called leads which are over 105  \n",
    "percentage_total = round(over105/len(dataset),3) # percentage of all leads which are over 105\n",
    "# create a dataframe to display the results\n",
    "age_stats = {'Over 105':[called_over105, over105],\n",
    "            'Total':[called, len(dataset)],\n",
    "            'Percentage':[percentage_called, percentage_total]}\n",
    "age_stats_df = pd.DataFrame(age_stats)\n",
    "age_stats_df.index = ['Called','Total']\n",
    "age_stats_df"
   ]
  },
  {
   "cell_type": "markdown",
   "id": "64f1ad68",
   "metadata": {},
   "source": [
    "For both called and all leads, the leads with *Age* values higher than 105 constitute slightly above 1%, so it was deemed acceptable to disregard them."
   ]
  },
  {
   "cell_type": "markdown",
   "id": "f9f17233",
   "metadata": {},
   "source": [
    "### Checkpoint 1"
   ]
  },
  {
   "cell_type": "code",
   "execution_count": 12,
   "id": "ea4fb5e0",
   "metadata": {},
   "outputs": [],
   "source": [
    "# make a copy of the dataframe keeping only leads 105 years old or younger\n",
    "dataset2 = dataset[dataset['Age'] <= 105].copy()"
   ]
  },
  {
   "cell_type": "code",
   "execution_count": 13,
   "id": "4d7f48a7",
   "metadata": {},
   "outputs": [
    {
     "data": {
      "text/html": [
       "<div>\n",
       "<style scoped>\n",
       "    .dataframe tbody tr th:only-of-type {\n",
       "        vertical-align: middle;\n",
       "    }\n",
       "\n",
       "    .dataframe tbody tr th {\n",
       "        vertical-align: top;\n",
       "    }\n",
       "\n",
       "    .dataframe thead th {\n",
       "        text-align: right;\n",
       "    }\n",
       "</style>\n",
       "<table border=\"1\" class=\"dataframe\">\n",
       "  <thead>\n",
       "    <tr style=\"text-align: right;\">\n",
       "      <th></th>\n",
       "      <th>Phone Number</th>\n",
       "      <th>Game Attendance</th>\n",
       "      <th>Age</th>\n",
       "    </tr>\n",
       "  </thead>\n",
       "  <tbody>\n",
       "    <tr>\n",
       "      <th>count</th>\n",
       "      <td>9.893000e+03</td>\n",
       "      <td>9893.000000</td>\n",
       "      <td>9893.000000</td>\n",
       "    </tr>\n",
       "    <tr>\n",
       "      <th>mean</th>\n",
       "      <td>4.994689e+11</td>\n",
       "      <td>0.441099</td>\n",
       "      <td>36.143435</td>\n",
       "    </tr>\n",
       "    <tr>\n",
       "      <th>std</th>\n",
       "      <td>2.915263e+11</td>\n",
       "      <td>0.220597</td>\n",
       "      <td>17.010081</td>\n",
       "    </tr>\n",
       "    <tr>\n",
       "      <th>min</th>\n",
       "      <td>3.807313e+07</td>\n",
       "      <td>0.060000</td>\n",
       "      <td>18.000000</td>\n",
       "    </tr>\n",
       "    <tr>\n",
       "      <th>25%</th>\n",
       "      <td>2.509555e+11</td>\n",
       "      <td>0.260000</td>\n",
       "      <td>23.000000</td>\n",
       "    </tr>\n",
       "    <tr>\n",
       "      <th>50%</th>\n",
       "      <td>4.937647e+11</td>\n",
       "      <td>0.430000</td>\n",
       "      <td>31.000000</td>\n",
       "    </tr>\n",
       "    <tr>\n",
       "      <th>75%</th>\n",
       "      <td>7.570934e+11</td>\n",
       "      <td>0.610000</td>\n",
       "      <td>44.000000</td>\n",
       "    </tr>\n",
       "    <tr>\n",
       "      <th>max</th>\n",
       "      <td>9.999539e+11</td>\n",
       "      <td>1.000000</td>\n",
       "      <td>105.000000</td>\n",
       "    </tr>\n",
       "  </tbody>\n",
       "</table>\n",
       "</div>"
      ],
      "text/plain": [
       "       Phone Number  Game Attendance          Age\n",
       "count  9.893000e+03      9893.000000  9893.000000\n",
       "mean   4.994689e+11         0.441099    36.143435\n",
       "std    2.915263e+11         0.220597    17.010081\n",
       "min    3.807313e+07         0.060000    18.000000\n",
       "25%    2.509555e+11         0.260000    23.000000\n",
       "50%    4.937647e+11         0.430000    31.000000\n",
       "75%    7.570934e+11         0.610000    44.000000\n",
       "max    9.999539e+11         1.000000   105.000000"
      ]
     },
     "execution_count": 13,
     "metadata": {},
     "output_type": "execute_result"
    }
   ],
   "source": [
    "# check basic statistics of numerical columns to see the changes in the Age column\n",
    "dataset2.describe()"
   ]
  },
  {
   "cell_type": "markdown",
   "id": "ed1c6fd7",
   "metadata": {},
   "source": [
    "### Examining other columns"
   ]
  },
  {
   "cell_type": "markdown",
   "id": "7b7d6f7e",
   "metadata": {},
   "source": [
    "#### Province\n"
   ]
  },
  {
   "cell_type": "code",
   "execution_count": 14,
   "id": "1a1dc14c",
   "metadata": {},
   "outputs": [
    {
     "data": {
      "text/plain": [
       "Province\n",
       "Ontario                      2198\n",
       "Quebec                       1595\n",
       "British Columbia             1103\n",
       "Alberta                      1102\n",
       "Manitoba                     1096\n",
       "Saskatchewan                 1054\n",
       "Nova Scotia                   566\n",
       "New Brunswick                 551\n",
       "Newfoundland and Labrador     273\n",
       "Prince Edward Island          255\n",
       "Northwest Territories          52\n",
       "Yukon                          42\n",
       "Nunavut                         6\n",
       "Name: count, dtype: int64"
      ]
     },
     "execution_count": 14,
     "metadata": {},
     "output_type": "execute_result"
    }
   ],
   "source": [
    "# check occurrences of all Province values\n",
    "province_value_count = dataset2['Province'].value_counts()\n",
    "province_value_count"
   ]
  },
  {
   "cell_type": "code",
   "execution_count": 15,
   "id": "fd377c79",
   "metadata": {},
   "outputs": [
    {
     "data": {
      "text/plain": [
       "Province\n",
       "Ontario                      624\n",
       "Quebec                       425\n",
       "Alberta                      302\n",
       "British Columbia             288\n",
       "Manitoba                     284\n",
       "Saskatchewan                 282\n",
       "Nova Scotia                  161\n",
       "New Brunswick                141\n",
       "Newfoundland and Labrador     85\n",
       "Prince Edward Island          72\n",
       "Northwest Territories         11\n",
       "Yukon                         11\n",
       "Nunavut                        2\n",
       "Name: count, dtype: int64"
      ]
     },
     "execution_count": 15,
     "metadata": {},
     "output_type": "execute_result"
    }
   ],
   "source": [
    "# check occurrences of all Province values for the leads who have been called\n",
    "province_value_count_called = dataset2[dataset2['Called']]['Province'].value_counts()\n",
    "province_value_count_called"
   ]
  },
  {
   "cell_type": "code",
   "execution_count": 16,
   "id": "feb1786a",
   "metadata": {},
   "outputs": [
    {
     "data": {
      "text/plain": [
       "Province\n",
       "Alberta                      0.274047\n",
       "British Columbia             0.261106\n",
       "Manitoba                     0.259124\n",
       "New Brunswick                0.255898\n",
       "Newfoundland and Labrador    0.311355\n",
       "Northwest Territories        0.211538\n",
       "Nova Scotia                  0.284452\n",
       "Nunavut                      0.333333\n",
       "Ontario                      0.283894\n",
       "Prince Edward Island         0.282353\n",
       "Quebec                       0.266458\n",
       "Saskatchewan                 0.267552\n",
       "Yukon                        0.261905\n",
       "Name: count, dtype: float64"
      ]
     },
     "execution_count": 16,
     "metadata": {},
     "output_type": "execute_result"
    }
   ],
   "source": [
    "# check the ratios\n",
    "province_value_count_ratio = province_value_count_called / province_value_count\n",
    "province_value_count_ratio"
   ]
  },
  {
   "cell_type": "markdown",
   "id": "4396935b",
   "metadata": {},
   "source": [
    "The only manipulation which will be performed on this feature is combining the last 3 *Province* categories as they are poorly represented in the data set. It also makes sense as they are the 3 Northern Canadian territories."
   ]
  },
  {
   "cell_type": "code",
   "execution_count": 17,
   "id": "9a94fa97",
   "metadata": {},
   "outputs": [],
   "source": [
    "# combine the 3 values in 1 - Territories\n",
    "dataset2.loc[:,'Province'] = dataset2.loc[:,'Province'].replace(['Northwest Territories', 'Yukon', 'Nunavut'], 'Territories')"
   ]
  },
  {
   "cell_type": "markdown",
   "id": "fefa7de3",
   "metadata": {},
   "source": [
    "#### Sport"
   ]
  },
  {
   "cell_type": "code",
   "execution_count": 18,
   "id": "914e8d98",
   "metadata": {},
   "outputs": [
    {
     "data": {
      "text/plain": [
       "Sport\n",
       "ice hockey    2877\n",
       "soccer        2082\n",
       "baseball      1723\n",
       "cricket       1462\n",
       "tennis         904\n",
       "rugby          585\n",
       "basketball     260\n",
       "Name: count, dtype: int64"
      ]
     },
     "execution_count": 18,
     "metadata": {},
     "output_type": "execute_result"
    }
   ],
   "source": [
    "# check occurrences of all Sport values\n",
    "sport_value_count = dataset2['Sport'].value_counts()\n",
    "sport_value_count"
   ]
  },
  {
   "cell_type": "code",
   "execution_count": 19,
   "id": "f40937b4",
   "metadata": {},
   "outputs": [
    {
     "data": {
      "text/plain": [
       "Sport\n",
       "ice hockey    788\n",
       "soccer        569\n",
       "baseball      454\n",
       "cricket       392\n",
       "tennis        253\n",
       "rugby         161\n",
       "basketball     71\n",
       "Name: count, dtype: int64"
      ]
     },
     "execution_count": 19,
     "metadata": {},
     "output_type": "execute_result"
    }
   ],
   "source": [
    "# check occurrences of all Sport values for the leads who have been called\n",
    "sport_value_count_called = dataset2[dataset2['Called']]['Sport'].value_counts()\n",
    "sport_value_count_called"
   ]
  },
  {
   "cell_type": "code",
   "execution_count": 20,
   "id": "39a817ba",
   "metadata": {},
   "outputs": [
    {
     "data": {
      "text/plain": [
       "Sport\n",
       "ice hockey    0.273896\n",
       "soccer        0.273295\n",
       "baseball      0.263494\n",
       "cricket       0.268126\n",
       "tennis        0.279867\n",
       "rugby         0.275214\n",
       "basketball    0.273077\n",
       "Name: count, dtype: float64"
      ]
     },
     "execution_count": 20,
     "metadata": {},
     "output_type": "execute_result"
    }
   ],
   "source": [
    "# check the ratios\n",
    "sport_value_count_ratio = sport_value_count_called / sport_value_count\n",
    "sport_value_count_ratio"
   ]
  },
  {
   "cell_type": "markdown",
   "id": "98cf6f13",
   "metadata": {},
   "source": [
    "No cleaning will be performed for this feature..."
   ]
  },
  {
   "cell_type": "markdown",
   "id": "6335f897",
   "metadata": {},
   "source": [
    "#### Game Attenddance"
   ]
  },
  {
   "cell_type": "markdown",
   "id": "a65715eb",
   "metadata": {},
   "source": [
    "... and neither for *Game Attendance*. However, the correlation with *Age* should be checked to see if one of the features should be dropped."
   ]
  },
  {
   "cell_type": "code",
   "execution_count": 21,
   "id": "5d682253",
   "metadata": {},
   "outputs": [
    {
     "data": {
      "text/html": [
       "<div>\n",
       "<style scoped>\n",
       "    .dataframe tbody tr th:only-of-type {\n",
       "        vertical-align: middle;\n",
       "    }\n",
       "\n",
       "    .dataframe tbody tr th {\n",
       "        vertical-align: top;\n",
       "    }\n",
       "\n",
       "    .dataframe thead th {\n",
       "        text-align: right;\n",
       "    }\n",
       "</style>\n",
       "<table border=\"1\" class=\"dataframe\">\n",
       "  <thead>\n",
       "    <tr style=\"text-align: right;\">\n",
       "      <th></th>\n",
       "      <th>Age</th>\n",
       "      <th>Game Attendance</th>\n",
       "    </tr>\n",
       "  </thead>\n",
       "  <tbody>\n",
       "    <tr>\n",
       "      <th>Age</th>\n",
       "      <td>1.000000</td>\n",
       "      <td>0.012024</td>\n",
       "    </tr>\n",
       "    <tr>\n",
       "      <th>Game Attendance</th>\n",
       "      <td>0.012024</td>\n",
       "      <td>1.000000</td>\n",
       "    </tr>\n",
       "  </tbody>\n",
       "</table>\n",
       "</div>"
      ],
      "text/plain": [
       "                      Age  Game Attendance\n",
       "Age              1.000000         0.012024\n",
       "Game Attendance  0.012024         1.000000"
      ]
     },
     "execution_count": 21,
     "metadata": {},
     "output_type": "execute_result"
    }
   ],
   "source": [
    "dataset2[['Age','Game Attendance']].corr()"
   ]
  },
  {
   "cell_type": "markdown",
   "id": "6141f57d",
   "metadata": {},
   "source": [
    "Clearly, there is little correlation between the two. "
   ]
  },
  {
   "cell_type": "markdown",
   "id": "46a4ec37",
   "metadata": {},
   "source": [
    "#### Call Center"
   ]
  },
  {
   "cell_type": "code",
   "execution_count": 22,
   "id": "ba236948",
   "metadata": {},
   "outputs": [
    {
     "data": {
      "text/plain": [
       "Call Center\n",
       "South    3294\n",
       "West     3259\n",
       "East     3240\n",
       "North     100\n",
       "Name: count, dtype: int64"
      ]
     },
     "execution_count": 22,
     "metadata": {},
     "output_type": "execute_result"
    }
   ],
   "source": [
    "# check occurrences of all Province values\n",
    "center_value_count = dataset2['Call Center'].value_counts()\n",
    "center_value_count"
   ]
  },
  {
   "cell_type": "code",
   "execution_count": 23,
   "id": "4d0802b8",
   "metadata": {},
   "outputs": [],
   "source": [
    "# examine relationship with Province\n",
    "province_south_center = dataset2[dataset2['Call Center'] == 'South']['Province'].value_counts()\n",
    "province_west_center = dataset2[dataset2['Call Center'] == 'West']['Province'].value_counts()\n",
    "province_east_center = dataset2[dataset2['Call Center'] == 'East']['Province'].value_counts()\n",
    "province_north_center = dataset2[dataset2['Call Center'] == 'North']['Province'].value_counts()"
   ]
  },
  {
   "cell_type": "code",
   "execution_count": 24,
   "id": "281e8f8a",
   "metadata": {},
   "outputs": [
    {
     "data": {
      "text/plain": [
       "Province\n",
       "Ontario     2198\n",
       "Manitoba    1096\n",
       "Name: count, dtype: int64"
      ]
     },
     "execution_count": 24,
     "metadata": {},
     "output_type": "execute_result"
    }
   ],
   "source": [
    "province_south_center"
   ]
  },
  {
   "cell_type": "code",
   "execution_count": 25,
   "id": "b82d4965",
   "metadata": {},
   "outputs": [
    {
     "data": {
      "text/plain": [
       "Province\n",
       "British Columbia    1103\n",
       "Alberta             1102\n",
       "Saskatchewan        1054\n",
       "Name: count, dtype: int64"
      ]
     },
     "execution_count": 25,
     "metadata": {},
     "output_type": "execute_result"
    }
   ],
   "source": [
    "province_west_center"
   ]
  },
  {
   "cell_type": "code",
   "execution_count": 26,
   "id": "82069750",
   "metadata": {},
   "outputs": [
    {
     "data": {
      "text/plain": [
       "Province\n",
       "Quebec                       1595\n",
       "Nova Scotia                   566\n",
       "New Brunswick                 551\n",
       "Newfoundland and Labrador     273\n",
       "Prince Edward Island          255\n",
       "Name: count, dtype: int64"
      ]
     },
     "execution_count": 26,
     "metadata": {},
     "output_type": "execute_result"
    }
   ],
   "source": [
    "province_east_center"
   ]
  },
  {
   "cell_type": "code",
   "execution_count": 27,
   "id": "65670bfa",
   "metadata": {},
   "outputs": [
    {
     "data": {
      "text/plain": [
       "Province\n",
       "Territories    100\n",
       "Name: count, dtype: int64"
      ]
     },
     "execution_count": 27,
     "metadata": {},
     "output_type": "execute_result"
    }
   ],
   "source": [
    "province_north_center"
   ]
  },
  {
   "cell_type": "markdown",
   "id": "61cde580",
   "metadata": {},
   "source": [
    "*Call Center* basically groups *Province* values together by the region of Canada they are located in and does not provide any new information. It will be therefore removed."
   ]
  },
  {
   "cell_type": "markdown",
   "id": "c8b47f2a",
   "metadata": {},
   "source": [
    "#### Called, Call Outcome & Decision\n",
    "These will be removed as well. The predictions will be made for uncalled leads so *Call Outcome* is not useful for this problem. Division of the dataset can be done using *Applied* column so the *Called* column is also unnecesary."
   ]
  },
  {
   "cell_type": "code",
   "execution_count": 28,
   "id": "21e7c297",
   "metadata": {},
   "outputs": [],
   "source": [
    "dataset2.drop(columns = ['Called', 'Call Center', 'Call Outcome', 'Decision'], axis=1, inplace=True)"
   ]
  },
  {
   "cell_type": "markdown",
   "id": "b8369722",
   "metadata": {},
   "source": [
    "#### Applied\n",
    "*Applied* is the target column."
   ]
  },
  {
   "cell_type": "code",
   "execution_count": 29,
   "id": "a94e25fd",
   "metadata": {},
   "outputs": [
    {
     "data": {
      "text/plain": [
       "Applied\n",
       "False    1928\n",
       "True      760\n",
       "Name: count, dtype: int64"
      ]
     },
     "execution_count": 29,
     "metadata": {},
     "output_type": "execute_result"
    }
   ],
   "source": [
    "# check Applied statistics\n",
    "dataset2['Applied'].value_counts()"
   ]
  },
  {
   "cell_type": "code",
   "execution_count": 30,
   "id": "08ac31f9",
   "metadata": {},
   "outputs": [
    {
     "data": {
      "text/html": [
       "<div>\n",
       "<style scoped>\n",
       "    .dataframe tbody tr th:only-of-type {\n",
       "        vertical-align: middle;\n",
       "    }\n",
       "\n",
       "    .dataframe tbody tr th {\n",
       "        vertical-align: top;\n",
       "    }\n",
       "\n",
       "    .dataframe thead th {\n",
       "        text-align: right;\n",
       "    }\n",
       "</style>\n",
       "<table border=\"1\" class=\"dataframe\">\n",
       "  <thead>\n",
       "    <tr style=\"text-align: right;\">\n",
       "      <th></th>\n",
       "      <th>Name</th>\n",
       "      <th>Phone Number</th>\n",
       "      <th>Province</th>\n",
       "      <th>Sport</th>\n",
       "      <th>Game Attendance</th>\n",
       "      <th>Age</th>\n",
       "      <th>Applied</th>\n",
       "    </tr>\n",
       "  </thead>\n",
       "  <tbody>\n",
       "    <tr>\n",
       "      <th>0</th>\n",
       "      <td>Miya Charles</td>\n",
       "      <td>728190618071</td>\n",
       "      <td>New Brunswick</td>\n",
       "      <td>rugby</td>\n",
       "      <td>0.20</td>\n",
       "      <td>33</td>\n",
       "      <td>NaN</td>\n",
       "    </tr>\n",
       "    <tr>\n",
       "      <th>1</th>\n",
       "      <td>Deangelo Cobb</td>\n",
       "      <td>255217276432</td>\n",
       "      <td>Alberta</td>\n",
       "      <td>soccer</td>\n",
       "      <td>0.81</td>\n",
       "      <td>24</td>\n",
       "      <td>NaN</td>\n",
       "    </tr>\n",
       "    <tr>\n",
       "      <th>2</th>\n",
       "      <td>Adam Rogers</td>\n",
       "      <td>538482482123</td>\n",
       "      <td>Ontario</td>\n",
       "      <td>baseball</td>\n",
       "      <td>0.30</td>\n",
       "      <td>33</td>\n",
       "      <td>NaN</td>\n",
       "    </tr>\n",
       "    <tr>\n",
       "      <th>3</th>\n",
       "      <td>Demarion Dudley</td>\n",
       "      <td>913979679898</td>\n",
       "      <td>British Columbia</td>\n",
       "      <td>ice hockey</td>\n",
       "      <td>0.43</td>\n",
       "      <td>26</td>\n",
       "      <td>NaN</td>\n",
       "    </tr>\n",
       "    <tr>\n",
       "      <th>4</th>\n",
       "      <td>Scott Medina</td>\n",
       "      <td>676902221026</td>\n",
       "      <td>Ontario</td>\n",
       "      <td>ice hockey</td>\n",
       "      <td>0.36</td>\n",
       "      <td>25</td>\n",
       "      <td>NaN</td>\n",
       "    </tr>\n",
       "    <tr>\n",
       "      <th>5</th>\n",
       "      <td>Tessa Lowe</td>\n",
       "      <td>822568222276</td>\n",
       "      <td>Nova Scotia</td>\n",
       "      <td>rugby</td>\n",
       "      <td>0.66</td>\n",
       "      <td>29</td>\n",
       "      <td>NaN</td>\n",
       "    </tr>\n",
       "    <tr>\n",
       "      <th>6</th>\n",
       "      <td>Jaylin Bailey</td>\n",
       "      <td>422215394903</td>\n",
       "      <td>British Columbia</td>\n",
       "      <td>ice hockey</td>\n",
       "      <td>0.61</td>\n",
       "      <td>25</td>\n",
       "      <td>NaN</td>\n",
       "    </tr>\n",
       "    <tr>\n",
       "      <th>7</th>\n",
       "      <td>Francisco Curtis</td>\n",
       "      <td>775967173668</td>\n",
       "      <td>Alberta</td>\n",
       "      <td>soccer</td>\n",
       "      <td>0.40</td>\n",
       "      <td>20</td>\n",
       "      <td>True</td>\n",
       "    </tr>\n",
       "    <tr>\n",
       "      <th>8</th>\n",
       "      <td>Osvaldo Griffin</td>\n",
       "      <td>596918287046</td>\n",
       "      <td>British Columbia</td>\n",
       "      <td>cricket</td>\n",
       "      <td>0.30</td>\n",
       "      <td>28</td>\n",
       "      <td>NaN</td>\n",
       "    </tr>\n",
       "    <tr>\n",
       "      <th>9</th>\n",
       "      <td>Yoselin Moyer</td>\n",
       "      <td>242633357110</td>\n",
       "      <td>Ontario</td>\n",
       "      <td>tennis</td>\n",
       "      <td>0.31</td>\n",
       "      <td>22</td>\n",
       "      <td>False</td>\n",
       "    </tr>\n",
       "  </tbody>\n",
       "</table>\n",
       "</div>"
      ],
      "text/plain": [
       "               Name  Phone Number          Province       Sport  \\\n",
       "0      Miya Charles  728190618071     New Brunswick       rugby   \n",
       "1     Deangelo Cobb  255217276432           Alberta      soccer   \n",
       "2       Adam Rogers  538482482123           Ontario    baseball   \n",
       "3   Demarion Dudley  913979679898  British Columbia  ice hockey   \n",
       "4      Scott Medina  676902221026           Ontario  ice hockey   \n",
       "5        Tessa Lowe  822568222276       Nova Scotia       rugby   \n",
       "6     Jaylin Bailey  422215394903  British Columbia  ice hockey   \n",
       "7  Francisco Curtis  775967173668           Alberta      soccer   \n",
       "8   Osvaldo Griffin  596918287046  British Columbia     cricket   \n",
       "9     Yoselin Moyer  242633357110           Ontario      tennis   \n",
       "\n",
       "   Game Attendance  Age Applied  \n",
       "0             0.20   33     NaN  \n",
       "1             0.81   24     NaN  \n",
       "2             0.30   33     NaN  \n",
       "3             0.43   26     NaN  \n",
       "4             0.36   25     NaN  \n",
       "5             0.66   29     NaN  \n",
       "6             0.61   25     NaN  \n",
       "7             0.40   20    True  \n",
       "8             0.30   28     NaN  \n",
       "9             0.31   22   False  "
      ]
     },
     "execution_count": 30,
     "metadata": {},
     "output_type": "execute_result"
    }
   ],
   "source": [
    "# display the dataframe after modifications\n",
    "dataset2.head(10)"
   ]
  },
  {
   "cell_type": "markdown",
   "id": "f4085e24",
   "metadata": {},
   "source": [
    "### Histograms\n",
    "Once the data have been cleaned, the histograms can be created."
   ]
  },
  {
   "cell_type": "markdown",
   "id": "58fc0187",
   "metadata": {},
   "source": [
    "#### Age"
   ]
  },
  {
   "cell_type": "code",
   "execution_count": 31,
   "id": "45df2e83",
   "metadata": {},
   "outputs": [
    {
     "data": {
      "text/plain": [
       "(array([495., 479., 458., 384., 372., 376., 354., 336., 339., 309., 284.,\n",
       "        281., 274., 267., 262., 209., 221., 208., 209., 234., 199., 188.,\n",
       "        191., 163., 158., 146., 129., 126., 120., 105., 116., 107.,  94.,\n",
       "         92.,  73.,  92.,  76.,  78.,  98.,  65.,  71.,  62.,  44.,  52.,\n",
       "         39.,  49.,  44.,  38.,  43.,  35.,  38.,  27.,  27.,  36.,  37.,\n",
       "         27.,  20.,  38.,  26.,  23.,  24.,  12.,  18.,  25.,  15.,  17.,\n",
       "         17.,  11.,  21.,  10.,  15.,   8.,  18.,  18.,  12.,  15.,  10.,\n",
       "         12.,   6.,   9.,  10.,  13.,   7.,   8.,   3.,   5.,  11.]),\n",
       " array([ 18.,  19.,  20.,  21.,  22.,  23.,  24.,  25.,  26.,  27.,  28.,\n",
       "         29.,  30.,  31.,  32.,  33.,  34.,  35.,  36.,  37.,  38.,  39.,\n",
       "         40.,  41.,  42.,  43.,  44.,  45.,  46.,  47.,  48.,  49.,  50.,\n",
       "         51.,  52.,  53.,  54.,  55.,  56.,  57.,  58.,  59.,  60.,  61.,\n",
       "         62.,  63.,  64.,  65.,  66.,  67.,  68.,  69.,  70.,  71.,  72.,\n",
       "         73.,  74.,  75.,  76.,  77.,  78.,  79.,  80.,  81.,  82.,  83.,\n",
       "         84.,  85.,  86.,  87.,  88.,  89.,  90.,  91.,  92.,  93.,  94.,\n",
       "         95.,  96.,  97.,  98.,  99., 100., 101., 102., 103., 104., 105.]),\n",
       " <BarContainer object of 87 artists>)"
      ]
     },
     "execution_count": 31,
     "metadata": {},
     "output_type": "execute_result"
    },
    {
     "data": {
      "image/png": "[encoded data removed]",
      "text/plain": [
       "<Figure size 640x480 with 1 Axes>"
      ]
     },
     "metadata": {},
     "output_type": "display_data"
    }
   ],
   "source": [
    "# plot Age histogram to see the distribution\n",
    "plt.hist(dataset2['Age'], bins=(dataset2['Age'].max()-dataset2['Age'].min()), edgecolor='black')"
   ]
  },
  {
   "cell_type": "markdown",
   "id": "894d46b8",
   "metadata": {},
   "source": [
    "The shape of the *Age* distribution warrants considerations on taking the log of *Age* values. However, this approach has been tried and was not found to improve the model's performance."
   ]
  },
  {
   "cell_type": "markdown",
   "id": "0ce1cd3d",
   "metadata": {},
   "source": [
    "#### Province"
   ]
  },
  {
   "cell_type": "code",
   "execution_count": 32,
   "id": "8e533121",
   "metadata": {},
   "outputs": [
    {
     "data": {
      "text/plain": [
       "(array([ 551., 1102., 2198., 1103.,  566., 1054., 1595., 1096.,  273.,\n",
       "         255.,  100.]),\n",
       " array([ 0.        ,  0.90909091,  1.81818182,  2.72727273,  3.63636364,\n",
       "         4.54545455,  5.45454545,  6.36363636,  7.27272727,  8.18181818,\n",
       "         9.09090909, 10.        ]),\n",
       " <BarContainer object of 11 artists>)"
      ]
     },
     "execution_count": 32,
     "metadata": {},
     "output_type": "execute_result"
    },
    {
     "data": {
      "image/png": "[encoded data removed]",
      "text/plain": [
       "<Figure size 640x480 with 1 Axes>"
      ]
     },
     "metadata": {},
     "output_type": "display_data"
    }
   ],
   "source": [
    "# plot Province histogram to see the distribution\n",
    "plt.xticks(rotation=90)\n",
    "plt.hist(dataset2['Province'], bins=dataset2['Province'].nunique(), edgecolor='black')"
   ]
  },
  {
   "cell_type": "markdown",
   "id": "6fa2f073",
   "metadata": {},
   "source": [
    "#### Sport"
   ]
  },
  {
   "cell_type": "code",
   "execution_count": 33,
   "id": "d25bd1e3",
   "metadata": {},
   "outputs": [
    {
     "data": {
      "text/plain": [
       "(array([ 585., 2082., 1723., 2877., 1462.,  904.,  260.]),\n",
       " array([0.        , 0.85714286, 1.71428571, 2.57142857, 3.42857143,\n",
       "        4.28571429, 5.14285714, 6.        ]),\n",
       " <BarContainer object of 7 artists>)"
      ]
     },
     "execution_count": 33,
     "metadata": {},
     "output_type": "execute_result"
    },
    {
     "data": {
      "image/png": "[encoded data removed]",
      "text/plain": [
       "<Figure size 640x480 with 1 Axes>"
      ]
     },
     "metadata": {},
     "output_type": "display_data"
    }
   ],
   "source": [
    "# plot Sport histogram to see the distribution\n",
    "plt.hist(dataset2['Sport'], bins=dataset2['Sport'].nunique(), edgecolor='black')"
   ]
  },
  {
   "cell_type": "markdown",
   "id": "d3324f42",
   "metadata": {},
   "source": [
    "#### Game Attendance"
   ]
  },
  {
   "cell_type": "code",
   "execution_count": 34,
   "id": "20bdf5b4",
   "metadata": {},
   "outputs": [
    {
     "data": {
      "text/plain": [
       "(array([ 28.,  41.,  82.,  93., 123., 122., 143., 144., 134., 143., 150.,\n",
       "        144., 129., 139., 127., 136., 120., 148., 136., 138., 137., 157.,\n",
       "        129., 158., 137., 161., 148., 160., 134., 144., 151., 156., 138.,\n",
       "        139., 147., 143., 147., 134., 159., 145., 139., 125., 157., 153.,\n",
       "        133., 133., 146., 138., 154., 127., 129., 139., 135., 132., 117.,\n",
       "        109., 119.,  98., 112., 116., 126., 108.,  99., 113., 110., 100.,\n",
       "         83.,  89.,  63., 100.,  83.,  73.,  66.,  62.,  72.,  52.,  47.,\n",
       "         49.,  47.,  46.,  55.,  44.,  31.,  32.,  37.,  33.,  23.,  17.,\n",
       "         22.,  18.,  16.,  13.,   5.,   3.,   1.]),\n",
       " array([0.06      , 0.06989474, 0.07978947, 0.08968421, 0.09957895,\n",
       "        0.10947368, 0.11936842, 0.12926316, 0.13915789, 0.14905263,\n",
       "        0.15894737, 0.16884211, 0.17873684, 0.18863158, 0.19852632,\n",
       "        0.20842105, 0.21831579, 0.22821053, 0.23810526, 0.248     ,\n",
       "        0.25789474, 0.26778947, 0.27768421, 0.28757895, 0.29747368,\n",
       "        0.30736842, 0.31726316, 0.32715789, 0.33705263, 0.34694737,\n",
       "        0.35684211, 0.36673684, 0.37663158, 0.38652632, 0.39642105,\n",
       "        0.40631579, 0.41621053, 0.42610526, 0.436     , 0.44589474,\n",
       "        0.45578947, 0.46568421, 0.47557895, 0.48547368, 0.49536842,\n",
       "        0.50526316, 0.51515789, 0.52505263, 0.53494737, 0.54484211,\n",
       "        0.55473684, 0.56463158, 0.57452632, 0.58442105, 0.59431579,\n",
       "        0.60421053, 0.61410526, 0.624     , 0.63389474, 0.64378947,\n",
       "        0.65368421, 0.66357895, 0.67347368, 0.68336842, 0.69326316,\n",
       "        0.70315789, 0.71305263, 0.72294737, 0.73284211, 0.74273684,\n",
       "        0.75263158, 0.76252632, 0.77242105, 0.78231579, 0.79221053,\n",
       "        0.80210526, 0.812     , 0.82189474, 0.83178947, 0.84168421,\n",
       "        0.85157895, 0.86147368, 0.87136842, 0.88126316, 0.89115789,\n",
       "        0.90105263, 0.91094737, 0.92084211, 0.93073684, 0.94063158,\n",
       "        0.95052632, 0.96042105, 0.97031579, 0.98021053, 0.99010526,\n",
       "        1.        ]),\n",
       " <BarContainer object of 95 artists>)"
      ]
     },
     "execution_count": 34,
     "metadata": {},
     "output_type": "execute_result"
    },
    {
     "data": {
      "image/png": "[encoded data removed]",
      "text/plain": [
       "<Figure size 640x480 with 1 Axes>"
      ]
     },
     "metadata": {},
     "output_type": "display_data"
    }
   ],
   "source": [
    "# plot Game Attendance histogram to see the distribution\n",
    "plt.hist(dataset2['Game Attendance'], bins=int(1+100*(dataset2['Game Attendance'].max()-dataset2['Game Attendance'].min())),\n",
    "         edgecolor='black')"
   ]
  },
  {
   "cell_type": "markdown",
   "id": "22305716",
   "metadata": {},
   "source": [
    "## Feature enginnering"
   ]
  },
  {
   "cell_type": "markdown",
   "id": "42ec710a",
   "metadata": {},
   "source": [
    "### One-hot encoding\n",
    "*Province* and *Sport* will be encoded as they are categorical features. This is necessary to train the model."
   ]
  },
  {
   "cell_type": "code",
   "execution_count": 35,
   "id": "21817fba",
   "metadata": {},
   "outputs": [],
   "source": [
    "# obtain dataframe with dummy variables \n",
    "dataset_dummies = pd.get_dummies(dataset2[['Province', 'Sport']])\n",
    "dataset_dummies = dataset_dummies.astype(int)"
   ]
  },
  {
   "cell_type": "code",
   "execution_count": 36,
   "id": "b28e8711",
   "metadata": {},
   "outputs": [],
   "source": [
    "# rename the dummy columns\n",
    "dataset_dummies.columns = dataset_dummies.columns.str.replace('Province_', '')\n",
    "dataset_dummies.columns = dataset_dummies.columns.str.replace('Sport_', '')"
   ]
  },
  {
   "cell_type": "code",
   "execution_count": 37,
   "id": "38d1c6e2",
   "metadata": {},
   "outputs": [],
   "source": [
    "# drop one dummy column per each original categorical variable to avoid correlation\n",
    "dataset_dummies = dataset_dummies.drop(columns = ['Territories','basketball'])"
   ]
  },
  {
   "cell_type": "code",
   "execution_count": 38,
   "id": "f8857799",
   "metadata": {},
   "outputs": [
    {
     "data": {
      "text/html": [
       "<div>\n",
       "<style scoped>\n",
       "    .dataframe tbody tr th:only-of-type {\n",
       "        vertical-align: middle;\n",
       "    }\n",
       "\n",
       "    .dataframe tbody tr th {\n",
       "        vertical-align: top;\n",
       "    }\n",
       "\n",
       "    .dataframe thead th {\n",
       "        text-align: right;\n",
       "    }\n",
       "</style>\n",
       "<table border=\"1\" class=\"dataframe\">\n",
       "  <thead>\n",
       "    <tr style=\"text-align: right;\">\n",
       "      <th></th>\n",
       "      <th>Alberta</th>\n",
       "      <th>British Columbia</th>\n",
       "      <th>Manitoba</th>\n",
       "      <th>New Brunswick</th>\n",
       "      <th>Newfoundland and Labrador</th>\n",
       "      <th>Nova Scotia</th>\n",
       "      <th>Ontario</th>\n",
       "      <th>Prince Edward Island</th>\n",
       "      <th>Quebec</th>\n",
       "      <th>Saskatchewan</th>\n",
       "      <th>baseball</th>\n",
       "      <th>cricket</th>\n",
       "      <th>ice hockey</th>\n",
       "      <th>rugby</th>\n",
       "      <th>soccer</th>\n",
       "      <th>tennis</th>\n",
       "    </tr>\n",
       "  </thead>\n",
       "  <tbody>\n",
       "    <tr>\n",
       "      <th>0</th>\n",
       "      <td>0</td>\n",
       "      <td>0</td>\n",
       "      <td>0</td>\n",
       "      <td>1</td>\n",
       "      <td>0</td>\n",
       "      <td>0</td>\n",
       "      <td>0</td>\n",
       "      <td>0</td>\n",
       "      <td>0</td>\n",
       "      <td>0</td>\n",
       "      <td>0</td>\n",
       "      <td>0</td>\n",
       "      <td>0</td>\n",
       "      <td>1</td>\n",
       "      <td>0</td>\n",
       "      <td>0</td>\n",
       "    </tr>\n",
       "    <tr>\n",
       "      <th>1</th>\n",
       "      <td>1</td>\n",
       "      <td>0</td>\n",
       "      <td>0</td>\n",
       "      <td>0</td>\n",
       "      <td>0</td>\n",
       "      <td>0</td>\n",
       "      <td>0</td>\n",
       "      <td>0</td>\n",
       "      <td>0</td>\n",
       "      <td>0</td>\n",
       "      <td>0</td>\n",
       "      <td>0</td>\n",
       "      <td>0</td>\n",
       "      <td>0</td>\n",
       "      <td>1</td>\n",
       "      <td>0</td>\n",
       "    </tr>\n",
       "    <tr>\n",
       "      <th>2</th>\n",
       "      <td>0</td>\n",
       "      <td>0</td>\n",
       "      <td>0</td>\n",
       "      <td>0</td>\n",
       "      <td>0</td>\n",
       "      <td>0</td>\n",
       "      <td>1</td>\n",
       "      <td>0</td>\n",
       "      <td>0</td>\n",
       "      <td>0</td>\n",
       "      <td>1</td>\n",
       "      <td>0</td>\n",
       "      <td>0</td>\n",
       "      <td>0</td>\n",
       "      <td>0</td>\n",
       "      <td>0</td>\n",
       "    </tr>\n",
       "    <tr>\n",
       "      <th>3</th>\n",
       "      <td>0</td>\n",
       "      <td>1</td>\n",
       "      <td>0</td>\n",
       "      <td>0</td>\n",
       "      <td>0</td>\n",
       "      <td>0</td>\n",
       "      <td>0</td>\n",
       "      <td>0</td>\n",
       "      <td>0</td>\n",
       "      <td>0</td>\n",
       "      <td>0</td>\n",
       "      <td>0</td>\n",
       "      <td>1</td>\n",
       "      <td>0</td>\n",
       "      <td>0</td>\n",
       "      <td>0</td>\n",
       "    </tr>\n",
       "    <tr>\n",
       "      <th>4</th>\n",
       "      <td>0</td>\n",
       "      <td>0</td>\n",
       "      <td>0</td>\n",
       "      <td>0</td>\n",
       "      <td>0</td>\n",
       "      <td>0</td>\n",
       "      <td>1</td>\n",
       "      <td>0</td>\n",
       "      <td>0</td>\n",
       "      <td>0</td>\n",
       "      <td>0</td>\n",
       "      <td>0</td>\n",
       "      <td>1</td>\n",
       "      <td>0</td>\n",
       "      <td>0</td>\n",
       "      <td>0</td>\n",
       "    </tr>\n",
       "    <tr>\n",
       "      <th>5</th>\n",
       "      <td>0</td>\n",
       "      <td>0</td>\n",
       "      <td>0</td>\n",
       "      <td>0</td>\n",
       "      <td>0</td>\n",
       "      <td>1</td>\n",
       "      <td>0</td>\n",
       "      <td>0</td>\n",
       "      <td>0</td>\n",
       "      <td>0</td>\n",
       "      <td>0</td>\n",
       "      <td>0</td>\n",
       "      <td>0</td>\n",
       "      <td>1</td>\n",
       "      <td>0</td>\n",
       "      <td>0</td>\n",
       "    </tr>\n",
       "    <tr>\n",
       "      <th>6</th>\n",
       "      <td>0</td>\n",
       "      <td>1</td>\n",
       "      <td>0</td>\n",
       "      <td>0</td>\n",
       "      <td>0</td>\n",
       "      <td>0</td>\n",
       "      <td>0</td>\n",
       "      <td>0</td>\n",
       "      <td>0</td>\n",
       "      <td>0</td>\n",
       "      <td>0</td>\n",
       "      <td>0</td>\n",
       "      <td>1</td>\n",
       "      <td>0</td>\n",
       "      <td>0</td>\n",
       "      <td>0</td>\n",
       "    </tr>\n",
       "    <tr>\n",
       "      <th>7</th>\n",
       "      <td>1</td>\n",
       "      <td>0</td>\n",
       "      <td>0</td>\n",
       "      <td>0</td>\n",
       "      <td>0</td>\n",
       "      <td>0</td>\n",
       "      <td>0</td>\n",
       "      <td>0</td>\n",
       "      <td>0</td>\n",
       "      <td>0</td>\n",
       "      <td>0</td>\n",
       "      <td>0</td>\n",
       "      <td>0</td>\n",
       "      <td>0</td>\n",
       "      <td>1</td>\n",
       "      <td>0</td>\n",
       "    </tr>\n",
       "    <tr>\n",
       "      <th>8</th>\n",
       "      <td>0</td>\n",
       "      <td>1</td>\n",
       "      <td>0</td>\n",
       "      <td>0</td>\n",
       "      <td>0</td>\n",
       "      <td>0</td>\n",
       "      <td>0</td>\n",
       "      <td>0</td>\n",
       "      <td>0</td>\n",
       "      <td>0</td>\n",
       "      <td>0</td>\n",
       "      <td>1</td>\n",
       "      <td>0</td>\n",
       "      <td>0</td>\n",
       "      <td>0</td>\n",
       "      <td>0</td>\n",
       "    </tr>\n",
       "    <tr>\n",
       "      <th>9</th>\n",
       "      <td>0</td>\n",
       "      <td>0</td>\n",
       "      <td>0</td>\n",
       "      <td>0</td>\n",
       "      <td>0</td>\n",
       "      <td>0</td>\n",
       "      <td>1</td>\n",
       "      <td>0</td>\n",
       "      <td>0</td>\n",
       "      <td>0</td>\n",
       "      <td>0</td>\n",
       "      <td>0</td>\n",
       "      <td>0</td>\n",
       "      <td>0</td>\n",
       "      <td>0</td>\n",
       "      <td>1</td>\n",
       "    </tr>\n",
       "  </tbody>\n",
       "</table>\n",
       "</div>"
      ],
      "text/plain": [
       "   Alberta  British Columbia  Manitoba  New Brunswick  \\\n",
       "0        0                 0         0              1   \n",
       "1        1                 0         0              0   \n",
       "2        0                 0         0              0   \n",
       "3        0                 1         0              0   \n",
       "4        0                 0         0              0   \n",
       "5        0                 0         0              0   \n",
       "6        0                 1         0              0   \n",
       "7        1                 0         0              0   \n",
       "8        0                 1         0              0   \n",
       "9        0                 0         0              0   \n",
       "\n",
       "   Newfoundland and Labrador  Nova Scotia  Ontario  Prince Edward Island  \\\n",
       "0                          0            0        0                     0   \n",
       "1                          0            0        0                     0   \n",
       "2                          0            0        1                     0   \n",
       "3                          0            0        0                     0   \n",
       "4                          0            0        1                     0   \n",
       "5                          0            1        0                     0   \n",
       "6                          0            0        0                     0   \n",
       "7                          0            0        0                     0   \n",
       "8                          0            0        0                     0   \n",
       "9                          0            0        1                     0   \n",
       "\n",
       "   Quebec  Saskatchewan  baseball  cricket  ice hockey  rugby  soccer  tennis  \n",
       "0       0             0         0        0           0      1       0       0  \n",
       "1       0             0         0        0           0      0       1       0  \n",
       "2       0             0         1        0           0      0       0       0  \n",
       "3       0             0         0        0           1      0       0       0  \n",
       "4       0             0         0        0           1      0       0       0  \n",
       "5       0             0         0        0           0      1       0       0  \n",
       "6       0             0         0        0           1      0       0       0  \n",
       "7       0             0         0        0           0      0       1       0  \n",
       "8       0             0         0        1           0      0       0       0  \n",
       "9       0             0         0        0           0      0       0       1  "
      ]
     },
     "execution_count": 38,
     "metadata": {},
     "output_type": "execute_result"
    }
   ],
   "source": [
    "# display the dataframe\n",
    "dataset_dummies.head(10)"
   ]
  },
  {
   "cell_type": "markdown",
   "id": "0e093639",
   "metadata": {},
   "source": [
    "### Checkpoint 2"
   ]
  },
  {
   "cell_type": "code",
   "execution_count": 39,
   "id": "8fb1cc13",
   "metadata": {},
   "outputs": [
    {
     "data": {
      "text/plain": [
       "Index(['Name', 'Phone Number', 'Game Attendance', 'Age', 'Applied', 'Alberta',\n",
       "       'British Columbia', 'Manitoba', 'New Brunswick',\n",
       "       'Newfoundland and Labrador', 'Nova Scotia', 'Ontario',\n",
       "       'Prince Edward Island', 'Quebec', 'Saskatchewan', 'baseball', 'cricket',\n",
       "       'ice hockey', 'rugby', 'soccer', 'tennis'],\n",
       "      dtype='object')"
      ]
     },
     "execution_count": 39,
     "metadata": {},
     "output_type": "execute_result"
    }
   ],
   "source": [
    "# drop original categorical columns\n",
    "dataset3 = dataset2.drop(columns = ['Province','Sport'], axis=1).copy()\n",
    "# add dummy variables to the main dataframe\n",
    "dataset3 = pd.concat([dataset3, dataset_dummies], axis=1)\n",
    "# display column names\n",
    "dataset3.columns"
   ]
  },
  {
   "cell_type": "code",
   "execution_count": 40,
   "id": "0d712941",
   "metadata": {},
   "outputs": [],
   "source": [
    "# change column order\n",
    "dataset3 = dataset3[['Name', 'Phone Number', 'Age', 'Game Attendance', 'Alberta', 'British Columbia', 'Manitoba',\n",
    "       'New Brunswick', 'Newfoundland and Labrador', 'Nova Scotia', 'Ontario', 'Prince Edward Island', 'Quebec',\n",
    "       'Saskatchewan', 'baseball', 'cricket', 'ice hockey', 'rugby', 'soccer', 'tennis', 'Applied']]"
   ]
  },
  {
   "cell_type": "code",
   "execution_count": 41,
   "id": "9afdf7cd",
   "metadata": {},
   "outputs": [
    {
     "data": {
      "text/html": [
       "<div>\n",
       "<style scoped>\n",
       "    .dataframe tbody tr th:only-of-type {\n",
       "        vertical-align: middle;\n",
       "    }\n",
       "\n",
       "    .dataframe tbody tr th {\n",
       "        vertical-align: top;\n",
       "    }\n",
       "\n",
       "    .dataframe thead th {\n",
       "        text-align: right;\n",
       "    }\n",
       "</style>\n",
       "<table border=\"1\" class=\"dataframe\">\n",
       "  <thead>\n",
       "    <tr style=\"text-align: right;\">\n",
       "      <th></th>\n",
       "      <th>Name</th>\n",
       "      <th>Phone Number</th>\n",
       "      <th>Age</th>\n",
       "      <th>Game Attendance</th>\n",
       "      <th>Alberta</th>\n",
       "      <th>British Columbia</th>\n",
       "      <th>Manitoba</th>\n",
       "      <th>New Brunswick</th>\n",
       "      <th>Newfoundland and Labrador</th>\n",
       "      <th>Nova Scotia</th>\n",
       "      <th>...</th>\n",
       "      <th>Prince Edward Island</th>\n",
       "      <th>Quebec</th>\n",
       "      <th>Saskatchewan</th>\n",
       "      <th>baseball</th>\n",
       "      <th>cricket</th>\n",
       "      <th>ice hockey</th>\n",
       "      <th>rugby</th>\n",
       "      <th>soccer</th>\n",
       "      <th>tennis</th>\n",
       "      <th>Applied</th>\n",
       "    </tr>\n",
       "  </thead>\n",
       "  <tbody>\n",
       "    <tr>\n",
       "      <th>0</th>\n",
       "      <td>Miya Charles</td>\n",
       "      <td>728190618071</td>\n",
       "      <td>33</td>\n",
       "      <td>0.20</td>\n",
       "      <td>0</td>\n",
       "      <td>0</td>\n",
       "      <td>0</td>\n",
       "      <td>1</td>\n",
       "      <td>0</td>\n",
       "      <td>0</td>\n",
       "      <td>...</td>\n",
       "      <td>0</td>\n",
       "      <td>0</td>\n",
       "      <td>0</td>\n",
       "      <td>0</td>\n",
       "      <td>0</td>\n",
       "      <td>0</td>\n",
       "      <td>1</td>\n",
       "      <td>0</td>\n",
       "      <td>0</td>\n",
       "      <td>NaN</td>\n",
       "    </tr>\n",
       "    <tr>\n",
       "      <th>1</th>\n",
       "      <td>Deangelo Cobb</td>\n",
       "      <td>255217276432</td>\n",
       "      <td>24</td>\n",
       "      <td>0.81</td>\n",
       "      <td>1</td>\n",
       "      <td>0</td>\n",
       "      <td>0</td>\n",
       "      <td>0</td>\n",
       "      <td>0</td>\n",
       "      <td>0</td>\n",
       "      <td>...</td>\n",
       "      <td>0</td>\n",
       "      <td>0</td>\n",
       "      <td>0</td>\n",
       "      <td>0</td>\n",
       "      <td>0</td>\n",
       "      <td>0</td>\n",
       "      <td>0</td>\n",
       "      <td>1</td>\n",
       "      <td>0</td>\n",
       "      <td>NaN</td>\n",
       "    </tr>\n",
       "    <tr>\n",
       "      <th>2</th>\n",
       "      <td>Adam Rogers</td>\n",
       "      <td>538482482123</td>\n",
       "      <td>33</td>\n",
       "      <td>0.30</td>\n",
       "      <td>0</td>\n",
       "      <td>0</td>\n",
       "      <td>0</td>\n",
       "      <td>0</td>\n",
       "      <td>0</td>\n",
       "      <td>0</td>\n",
       "      <td>...</td>\n",
       "      <td>0</td>\n",
       "      <td>0</td>\n",
       "      <td>0</td>\n",
       "      <td>1</td>\n",
       "      <td>0</td>\n",
       "      <td>0</td>\n",
       "      <td>0</td>\n",
       "      <td>0</td>\n",
       "      <td>0</td>\n",
       "      <td>NaN</td>\n",
       "    </tr>\n",
       "    <tr>\n",
       "      <th>3</th>\n",
       "      <td>Demarion Dudley</td>\n",
       "      <td>913979679898</td>\n",
       "      <td>26</td>\n",
       "      <td>0.43</td>\n",
       "      <td>0</td>\n",
       "      <td>1</td>\n",
       "      <td>0</td>\n",
       "      <td>0</td>\n",
       "      <td>0</td>\n",
       "      <td>0</td>\n",
       "      <td>...</td>\n",
       "      <td>0</td>\n",
       "      <td>0</td>\n",
       "      <td>0</td>\n",
       "      <td>0</td>\n",
       "      <td>0</td>\n",
       "      <td>1</td>\n",
       "      <td>0</td>\n",
       "      <td>0</td>\n",
       "      <td>0</td>\n",
       "      <td>NaN</td>\n",
       "    </tr>\n",
       "    <tr>\n",
       "      <th>4</th>\n",
       "      <td>Scott Medina</td>\n",
       "      <td>676902221026</td>\n",
       "      <td>25</td>\n",
       "      <td>0.36</td>\n",
       "      <td>0</td>\n",
       "      <td>0</td>\n",
       "      <td>0</td>\n",
       "      <td>0</td>\n",
       "      <td>0</td>\n",
       "      <td>0</td>\n",
       "      <td>...</td>\n",
       "      <td>0</td>\n",
       "      <td>0</td>\n",
       "      <td>0</td>\n",
       "      <td>0</td>\n",
       "      <td>0</td>\n",
       "      <td>1</td>\n",
       "      <td>0</td>\n",
       "      <td>0</td>\n",
       "      <td>0</td>\n",
       "      <td>NaN</td>\n",
       "    </tr>\n",
       "    <tr>\n",
       "      <th>5</th>\n",
       "      <td>Tessa Lowe</td>\n",
       "      <td>822568222276</td>\n",
       "      <td>29</td>\n",
       "      <td>0.66</td>\n",
       "      <td>0</td>\n",
       "      <td>0</td>\n",
       "      <td>0</td>\n",
       "      <td>0</td>\n",
       "      <td>0</td>\n",
       "      <td>1</td>\n",
       "      <td>...</td>\n",
       "      <td>0</td>\n",
       "      <td>0</td>\n",
       "      <td>0</td>\n",
       "      <td>0</td>\n",
       "      <td>0</td>\n",
       "      <td>0</td>\n",
       "      <td>1</td>\n",
       "      <td>0</td>\n",
       "      <td>0</td>\n",
       "      <td>NaN</td>\n",
       "    </tr>\n",
       "    <tr>\n",
       "      <th>6</th>\n",
       "      <td>Jaylin Bailey</td>\n",
       "      <td>422215394903</td>\n",
       "      <td>25</td>\n",
       "      <td>0.61</td>\n",
       "      <td>0</td>\n",
       "      <td>1</td>\n",
       "      <td>0</td>\n",
       "      <td>0</td>\n",
       "      <td>0</td>\n",
       "      <td>0</td>\n",
       "      <td>...</td>\n",
       "      <td>0</td>\n",
       "      <td>0</td>\n",
       "      <td>0</td>\n",
       "      <td>0</td>\n",
       "      <td>0</td>\n",
       "      <td>1</td>\n",
       "      <td>0</td>\n",
       "      <td>0</td>\n",
       "      <td>0</td>\n",
       "      <td>NaN</td>\n",
       "    </tr>\n",
       "    <tr>\n",
       "      <th>7</th>\n",
       "      <td>Francisco Curtis</td>\n",
       "      <td>775967173668</td>\n",
       "      <td>20</td>\n",
       "      <td>0.40</td>\n",
       "      <td>1</td>\n",
       "      <td>0</td>\n",
       "      <td>0</td>\n",
       "      <td>0</td>\n",
       "      <td>0</td>\n",
       "      <td>0</td>\n",
       "      <td>...</td>\n",
       "      <td>0</td>\n",
       "      <td>0</td>\n",
       "      <td>0</td>\n",
       "      <td>0</td>\n",
       "      <td>0</td>\n",
       "      <td>0</td>\n",
       "      <td>0</td>\n",
       "      <td>1</td>\n",
       "      <td>0</td>\n",
       "      <td>True</td>\n",
       "    </tr>\n",
       "    <tr>\n",
       "      <th>8</th>\n",
       "      <td>Osvaldo Griffin</td>\n",
       "      <td>596918287046</td>\n",
       "      <td>28</td>\n",
       "      <td>0.30</td>\n",
       "      <td>0</td>\n",
       "      <td>1</td>\n",
       "      <td>0</td>\n",
       "      <td>0</td>\n",
       "      <td>0</td>\n",
       "      <td>0</td>\n",
       "      <td>...</td>\n",
       "      <td>0</td>\n",
       "      <td>0</td>\n",
       "      <td>0</td>\n",
       "      <td>0</td>\n",
       "      <td>1</td>\n",
       "      <td>0</td>\n",
       "      <td>0</td>\n",
       "      <td>0</td>\n",
       "      <td>0</td>\n",
       "      <td>NaN</td>\n",
       "    </tr>\n",
       "    <tr>\n",
       "      <th>9</th>\n",
       "      <td>Yoselin Moyer</td>\n",
       "      <td>242633357110</td>\n",
       "      <td>22</td>\n",
       "      <td>0.31</td>\n",
       "      <td>0</td>\n",
       "      <td>0</td>\n",
       "      <td>0</td>\n",
       "      <td>0</td>\n",
       "      <td>0</td>\n",
       "      <td>0</td>\n",
       "      <td>...</td>\n",
       "      <td>0</td>\n",
       "      <td>0</td>\n",
       "      <td>0</td>\n",
       "      <td>0</td>\n",
       "      <td>0</td>\n",
       "      <td>0</td>\n",
       "      <td>0</td>\n",
       "      <td>0</td>\n",
       "      <td>1</td>\n",
       "      <td>False</td>\n",
       "    </tr>\n",
       "  </tbody>\n",
       "</table>\n",
       "<p>10 rows × 21 columns</p>\n",
       "</div>"
      ],
      "text/plain": [
       "               Name  Phone Number  Age  Game Attendance  Alberta  \\\n",
       "0      Miya Charles  728190618071   33             0.20        0   \n",
       "1     Deangelo Cobb  255217276432   24             0.81        1   \n",
       "2       Adam Rogers  538482482123   33             0.30        0   \n",
       "3   Demarion Dudley  913979679898   26             0.43        0   \n",
       "4      Scott Medina  676902221026   25             0.36        0   \n",
       "5        Tessa Lowe  822568222276   29             0.66        0   \n",
       "6     Jaylin Bailey  422215394903   25             0.61        0   \n",
       "7  Francisco Curtis  775967173668   20             0.40        1   \n",
       "8   Osvaldo Griffin  596918287046   28             0.30        0   \n",
       "9     Yoselin Moyer  242633357110   22             0.31        0   \n",
       "\n",
       "   British Columbia  Manitoba  New Brunswick  Newfoundland and Labrador  \\\n",
       "0                 0         0              1                          0   \n",
       "1                 0         0              0                          0   \n",
       "2                 0         0              0                          0   \n",
       "3                 1         0              0                          0   \n",
       "4                 0         0              0                          0   \n",
       "5                 0         0              0                          0   \n",
       "6                 1         0              0                          0   \n",
       "7                 0         0              0                          0   \n",
       "8                 1         0              0                          0   \n",
       "9                 0         0              0                          0   \n",
       "\n",
       "   Nova Scotia  ...  Prince Edward Island  Quebec  Saskatchewan  baseball  \\\n",
       "0            0  ...                     0       0             0         0   \n",
       "1            0  ...                     0       0             0         0   \n",
       "2            0  ...                     0       0             0         1   \n",
       "3            0  ...                     0       0             0         0   \n",
       "4            0  ...                     0       0             0         0   \n",
       "5            1  ...                     0       0             0         0   \n",
       "6            0  ...                     0       0             0         0   \n",
       "7            0  ...                     0       0             0         0   \n",
       "8            0  ...                     0       0             0         0   \n",
       "9            0  ...                     0       0             0         0   \n",
       "\n",
       "   cricket  ice hockey  rugby  soccer  tennis  Applied  \n",
       "0        0           0      1       0       0      NaN  \n",
       "1        0           0      0       1       0      NaN  \n",
       "2        0           0      0       0       0      NaN  \n",
       "3        0           1      0       0       0      NaN  \n",
       "4        0           1      0       0       0      NaN  \n",
       "5        0           0      1       0       0      NaN  \n",
       "6        0           1      0       0       0      NaN  \n",
       "7        0           0      0       1       0     True  \n",
       "8        1           0      0       0       0      NaN  \n",
       "9        0           0      0       0       1    False  \n",
       "\n",
       "[10 rows x 21 columns]"
      ]
     },
     "execution_count": 41,
     "metadata": {},
     "output_type": "execute_result"
    }
   ],
   "source": [
    "# display the dataframe\n",
    "dataset3.head(10)"
   ]
  },
  {
   "cell_type": "markdown",
   "id": "c7dfb3ed",
   "metadata": {},
   "source": [
    "### Checkpoint 3 - separating the dataset"
   ]
  },
  {
   "cell_type": "code",
   "execution_count": 42,
   "id": "9bc1d0e6",
   "metadata": {},
   "outputs": [
    {
     "data": {
      "text/plain": [
       "Applied\n",
       "0    1928\n",
       "1     760\n",
       "Name: count, dtype: int64"
      ]
     },
     "execution_count": 42,
     "metadata": {},
     "output_type": "execute_result"
    }
   ],
   "source": [
    "# separate into dataset to be used for training and testing the regression model\n",
    "dataset_fit = dataset3[~dataset3['Applied'].isna()].copy()\n",
    "# and the dataset on which predictions will be made\n",
    "dataset_predict = dataset3[dataset3['Applied'].isna()].copy()\n",
    "# rename column Applied to Applying Probabilities\n",
    "dataset_predict.rename(columns={'Applied': 'Applying Probability'}, inplace=True)\n",
    "# change target data type from bool to int\n",
    "dataset_fit['Applied'] = dataset_fit['Applied'].astype(int)\n",
    "# see the value count in the dataframe for fitting (expecting 0s and 1s)\n",
    "dataset_fit['Applied'].value_counts()"
   ]
  },
  {
   "cell_type": "code",
   "execution_count": 43,
   "id": "f1a08f82",
   "metadata": {},
   "outputs": [
    {
     "data": {
      "text/plain": [
       "Series([], Name: count, dtype: int64)"
      ]
     },
     "execution_count": 43,
     "metadata": {},
     "output_type": "execute_result"
    }
   ],
   "source": [
    "# see the value count in the dataframe for predicting (expecting missing values)\n",
    "dataset_predict['Applying Probability'].value_counts()"
   ]
  },
  {
   "cell_type": "markdown",
   "id": "14d87141",
   "metadata": {},
   "source": [
    "### Splitting into train and test sets"
   ]
  },
  {
   "cell_type": "code",
   "execution_count": 44,
   "id": "e0870ee1",
   "metadata": {},
   "outputs": [],
   "source": [
    "# perform the split with test size of 20% and defined random state so the results can be reproduced\n",
    "X_train, X_test, y_train, y_test = train_test_split(dataset_fit.drop(columns = ['Name', 'Phone Number', 'Applied']),\n",
    "                                                    dataset_fit['Applied'], test_size = 0.2, random_state = 42)"
   ]
  },
  {
   "cell_type": "markdown",
   "id": "f17447ab",
   "metadata": {},
   "source": [
    "### Feature scaling\n",
    "Using StandardScaler, numerical features will be standardized by removing the mean and scaling to unit variance. This is necessary to achieve optimal model performance."
   ]
  },
  {
   "cell_type": "code",
   "execution_count": 45,
   "id": "9b8241a6",
   "metadata": {},
   "outputs": [],
   "source": [
    "# initialize the StandardScaler object\n",
    "scaler = StandardScaler()\n",
    "# fit scaling and scale numerical variables in training set, store scaled variables in a new df\n",
    "num_val_train_scaled = pd.DataFrame(scaler.fit_transform(X_train[['Age', 'Game Attendance']]))\n",
    "# scale numerical variables in test set, store scaled variables in a new df\n",
    "num_val_test_scaled = pd.DataFrame(scaler.transform(X_test[['Age', 'Game Attendance']]))\n",
    "# match indexing of new dfs with the main ones\n",
    "num_val_train_scaled.index = X_train.index.values\n",
    "num_val_test_scaled.index = X_test.index.values\n",
    "# substitute unscaled variables in main dfs with the scaled ones\n",
    "X_train['Age'] = num_val_train_scaled[0]\n",
    "X_test['Age'] = num_val_test_scaled[0]\n",
    "X_train['Game Attendance'] = num_val_train_scaled[1]\n",
    "X_test['Game Attendance'] = num_val_test_scaled[1]"
   ]
  },
  {
   "cell_type": "markdown",
   "id": "709f5307",
   "metadata": {},
   "source": [
    "## Model & predictions"
   ]
  },
  {
   "cell_type": "markdown",
   "id": "bc075290",
   "metadata": {},
   "source": [
    "### Model building\n",
    "As seen before, there is a target label imbalance in the dataset. This requires addressing, as otherwise the model will perform suboptimally. There is a number of approaches that can be taken, for this problem class weights will be used. Cross-validation will be also applied during model building to obtain average evaluation metric score and reduce the risk of overfitting.\n",
    "\n",
    "Accuracy is not a reliable metric for problems with imbalanced target labels. There is a number of metrics suited for dealing with such, such as recall, precision or F1 score. However, they are all calculated using assigned predicted labels and hence depend on and can be manipulated by the assignment threshold. The problem at hand focuses on probabilities and hence a more suited metric is the Area Under the Precision-Recall Curve (AUPRC), also known as average precision. For this setup it is also superior to another metric working with predicted probabilities, ROC-AUC, as it better measures the ability of the model to find positives faster (https://towardsdatascience.com/imbalanced-data-stop-using-roc-auc-and-use-auprc-instead-46af4910a494), which is what the model is after."
   ]
  },
  {
   "cell_type": "code",
   "execution_count": 46,
   "id": "867ea76d",
   "metadata": {},
   "outputs": [
    {
     "data": {
      "text/plain": [
       "Applied\n",
       "0    1541\n",
       "1     609\n",
       "Name: count, dtype: int64"
      ]
     },
     "execution_count": 46,
     "metadata": {},
     "output_type": "execute_result"
    }
   ],
   "source": [
    "# check the imbalance in the training set\n",
    "y_train.value_counts()"
   ]
  },
  {
   "cell_type": "code",
   "execution_count": 47,
   "id": "d9d0cbfa",
   "metadata": {},
   "outputs": [
    {
     "name": "stdout",
     "output_type": "stream",
     "text": [
      "Cross-validated average precision scores: [0.449 0.491 0.445 0.467 0.454]\n",
      "Mean cross-validated average precision score: 0.461\n"
     ]
    },
    {
     "data": {
      "text/html": [
       "<style>#sk-container-id-1 {color: black;background-color: white;}#sk-container-id-1 pre{padding: 0;}#sk-container-id-1 div.sk-toggleable {background-color: white;}#sk-container-id-1 label.sk-toggleable__label {cursor: pointer;display: block;width: 100%;margin-bottom: 0;padding: 0.3em;box-sizing: border-box;text-align: center;}#sk-container-id-1 label.sk-toggleable__label-arrow:before {content: \"▸\";float: left;margin-right: 0.25em;color: #696969;}#sk-container-id-1 label.sk-toggleable__label-arrow:hover:before {color: black;}#sk-container-id-1 div.sk-estimator:hover label.sk-toggleable__label-arrow:before {color: black;}#sk-container-id-1 div.sk-toggleable__content {max-height: 0;max-width: 0;overflow: hidden;text-align: left;background-color: #f0f8ff;}#sk-container-id-1 div.sk-toggleable__content pre {margin: 0.2em;color: black;border-radius: 0.25em;background-color: #f0f8ff;}#sk-container-id-1 input.sk-toggleable__control:checked~div.sk-toggleable__content {max-height: 200px;max-width: 100%;overflow: auto;}#sk-container-id-1 input.sk-toggleable__control:checked~label.sk-toggleable__label-arrow:before {content: \"▾\";}#sk-container-id-1 div.sk-estimator input.sk-toggleable__control:checked~label.sk-toggleable__label {background-color: #d4ebff;}#sk-container-id-1 div.sk-label input.sk-toggleable__control:checked~label.sk-toggleable__label {background-color: #d4ebff;}#sk-container-id-1 input.sk-hidden--visually {border: 0;clip: rect(1px 1px 1px 1px);clip: rect(1px, 1px, 1px, 1px);height: 1px;margin: -1px;overflow: hidden;padding: 0;position: absolute;width: 1px;}#sk-container-id-1 div.sk-estimator {font-family: monospace;background-color: #f0f8ff;border: 1px dotted black;border-radius: 0.25em;box-sizing: border-box;margin-bottom: 0.5em;}#sk-container-id-1 div.sk-estimator:hover {background-color: #d4ebff;}#sk-container-id-1 div.sk-parallel-item::after {content: \"\";width: 100%;border-bottom: 1px solid gray;flex-grow: 1;}#sk-container-id-1 div.sk-label:hover label.sk-toggleable__label {background-color: #d4ebff;}#sk-container-id-1 div.sk-serial::before {content: \"\";position: absolute;border-left: 1px solid gray;box-sizing: border-box;top: 0;bottom: 0;left: 50%;z-index: 0;}#sk-container-id-1 div.sk-serial {display: flex;flex-direction: column;align-items: center;background-color: white;padding-right: 0.2em;padding-left: 0.2em;position: relative;}#sk-container-id-1 div.sk-item {position: relative;z-index: 1;}#sk-container-id-1 div.sk-parallel {display: flex;align-items: stretch;justify-content: center;background-color: white;position: relative;}#sk-container-id-1 div.sk-item::before, #sk-container-id-1 div.sk-parallel-item::before {content: \"\";position: absolute;border-left: 1px solid gray;box-sizing: border-box;top: 0;bottom: 0;left: 50%;z-index: -1;}#sk-container-id-1 div.sk-parallel-item {display: flex;flex-direction: column;z-index: 1;position: relative;background-color: white;}#sk-container-id-1 div.sk-parallel-item:first-child::after {align-self: flex-end;width: 50%;}#sk-container-id-1 div.sk-parallel-item:last-child::after {align-self: flex-start;width: 50%;}#sk-container-id-1 div.sk-parallel-item:only-child::after {width: 0;}#sk-container-id-1 div.sk-dashed-wrapped {border: 1px dashed gray;margin: 0 0.4em 0.5em 0.4em;box-sizing: border-box;padding-bottom: 0.4em;background-color: white;}#sk-container-id-1 div.sk-label label {font-family: monospace;font-weight: bold;display: inline-block;line-height: 1.2em;}#sk-container-id-1 div.sk-label-container {text-align: center;}#sk-container-id-1 div.sk-container {/* jupyter's `normalize.less` sets `[hidden] { display: none; }` but bootstrap.min.css set `[hidden] { display: none !important; }` so we also need the `!important` here to be able to override the default hidden behavior on the sphinx rendered scikit-learn.org. See: https://github.com/scikit-learn/scikit-learn/issues/21755 */display: inline-block !important;position: relative;}#sk-container-id-1 div.sk-text-repr-fallback {display: none;}</style><div id=\"sk-container-id-1\" class=\"sk-top-container\"><div class=\"sk-text-repr-fallback\"><pre>LogisticRegression(class_weight={0: 609, 1: 1541}, random_state=42)</pre><b>In a Jupyter environment, please rerun this cell to show the HTML representation or trust the notebook. <br />On GitHub, the HTML representation is unable to render, please try loading this page with nbviewer.org.</b></div><div class=\"sk-container\" hidden><div class=\"sk-item\"><div class=\"sk-estimator sk-toggleable\"><input class=\"sk-toggleable__control sk-hidden--visually\" id=\"sk-estimator-id-1\" type=\"checkbox\" checked><label for=\"sk-estimator-id-1\" class=\"sk-toggleable__label sk-toggleable__label-arrow\">LogisticRegression</label><div class=\"sk-toggleable__content\"><pre>LogisticRegression(class_weight={0: 609, 1: 1541}, random_state=42)</pre></div></div></div></div></div>"
      ],
      "text/plain": [
       "LogisticRegression(class_weight={0: 609, 1: 1541}, random_state=42)"
      ]
     },
     "execution_count": 47,
     "metadata": {},
     "output_type": "execute_result"
    }
   ],
   "source": [
    "# using the values from above define class weights, inversely proportional to the class size\n",
    "w = {0:609, 1:1541}\n",
    "# define the logistic regression model\n",
    "model = LogisticRegression(random_state = 42, class_weight=w)\n",
    "# perform cross-validation on the training data\n",
    "# cross-validation folds = 5 by default\n",
    "cross_val_scores = cross_val_score(model, X_train, y_train, scoring='average_precision')\n",
    "# display the average precision scores\n",
    "print('Cross-validated average precision scores: {0}'.format(np.round(cross_val_scores, 3)))\n",
    "print('Mean cross-validated average precision score: {0}'.format(np.round(cross_val_scores.mean(), 3)))\n",
    "# fit the model on the training data\n",
    "model.fit(X_train, y_train)"
   ]
  },
  {
   "cell_type": "markdown",
   "id": "ac8e39d4",
   "metadata": {},
   "source": [
    "### Model evaluation"
   ]
  },
  {
   "cell_type": "markdown",
   "id": "a0852dd0",
   "metadata": {},
   "source": [
    "Even when using cross-validation, the model should be later tested on unseen test set."
   ]
  },
  {
   "cell_type": "code",
   "execution_count": 48,
   "id": "692478a7",
   "metadata": {},
   "outputs": [
    {
     "name": "stdout",
     "output_type": "stream",
     "text": [
      "Average precision score: 0.446\n"
     ]
    }
   ],
   "source": [
    "# predict the probabilities on the test data\n",
    "# exctract the second column to obtain probailities of belonging to the positive class\n",
    "y_pred_proba_test = model.predict_proba(X_test)[:, 1]\n",
    "# display the average precision score for the test data \n",
    "print('Average precision score: {0}'.format(round(average_precision_score(y_test, y_pred_proba_test),3)))"
   ]
  },
  {
   "cell_type": "markdown",
   "id": "3bd5e3a3",
   "metadata": {},
   "source": [
    "The cross-validation AUPRC scores are similar among themselves and the average is similar to the test AUPRC score, proving that the model did not overfit. Regarding the value itself, the baseline for AUPRC score is the fraction of the positives in the dataset which in this case is around 28.3%. Whether the model is a good or a bad one is hard to state given how difficult to define such descriptions are when it comes to regression models, as well as a clear fact that this is by no means state-of-the-art. It is possible that better performance can be achieved using a different algorithm. More importantly, an algorithm is only as good as the data it is fed and obtaining features more relevant to the questions asked would be the first step to improve it. However, with average precision score of 44.6% the model is not irrelevant and will be used to make predictions the assignment asks to make."
   ]
  },
  {
   "cell_type": "markdown",
   "id": "58584b25",
   "metadata": {},
   "source": [
    "### Making predictions"
   ]
  },
  {
   "cell_type": "code",
   "execution_count": 49,
   "id": "0a692c63",
   "metadata": {},
   "outputs": [
    {
     "data": {
      "text/html": [
       "<div>\n",
       "<style scoped>\n",
       "    .dataframe tbody tr th:only-of-type {\n",
       "        vertical-align: middle;\n",
       "    }\n",
       "\n",
       "    .dataframe tbody tr th {\n",
       "        vertical-align: top;\n",
       "    }\n",
       "\n",
       "    .dataframe thead th {\n",
       "        text-align: right;\n",
       "    }\n",
       "</style>\n",
       "<table border=\"1\" class=\"dataframe\">\n",
       "  <thead>\n",
       "    <tr style=\"text-align: right;\">\n",
       "      <th></th>\n",
       "      <th>Name</th>\n",
       "      <th>Phone Number</th>\n",
       "      <th>Age</th>\n",
       "      <th>Game Attendance</th>\n",
       "      <th>Alberta</th>\n",
       "      <th>British Columbia</th>\n",
       "      <th>Manitoba</th>\n",
       "      <th>New Brunswick</th>\n",
       "      <th>Newfoundland and Labrador</th>\n",
       "      <th>Nova Scotia</th>\n",
       "      <th>...</th>\n",
       "      <th>Prince Edward Island</th>\n",
       "      <th>Quebec</th>\n",
       "      <th>Saskatchewan</th>\n",
       "      <th>baseball</th>\n",
       "      <th>cricket</th>\n",
       "      <th>ice hockey</th>\n",
       "      <th>rugby</th>\n",
       "      <th>soccer</th>\n",
       "      <th>tennis</th>\n",
       "      <th>Applying Probability</th>\n",
       "    </tr>\n",
       "  </thead>\n",
       "  <tbody>\n",
       "    <tr>\n",
       "      <th>6012</th>\n",
       "      <td>Jalen Munoz</td>\n",
       "      <td>953081145902</td>\n",
       "      <td>34</td>\n",
       "      <td>0.95</td>\n",
       "      <td>0</td>\n",
       "      <td>0</td>\n",
       "      <td>0</td>\n",
       "      <td>0</td>\n",
       "      <td>0</td>\n",
       "      <td>0</td>\n",
       "      <td>...</td>\n",
       "      <td>0</td>\n",
       "      <td>0</td>\n",
       "      <td>0</td>\n",
       "      <td>1</td>\n",
       "      <td>0</td>\n",
       "      <td>0</td>\n",
       "      <td>0</td>\n",
       "      <td>0</td>\n",
       "      <td>0</td>\n",
       "      <td>0.780</td>\n",
       "    </tr>\n",
       "    <tr>\n",
       "      <th>4258</th>\n",
       "      <td>Tommy Oneal</td>\n",
       "      <td>636316335251</td>\n",
       "      <td>25</td>\n",
       "      <td>0.94</td>\n",
       "      <td>0</td>\n",
       "      <td>0</td>\n",
       "      <td>0</td>\n",
       "      <td>0</td>\n",
       "      <td>0</td>\n",
       "      <td>0</td>\n",
       "      <td>...</td>\n",
       "      <td>0</td>\n",
       "      <td>0</td>\n",
       "      <td>1</td>\n",
       "      <td>1</td>\n",
       "      <td>0</td>\n",
       "      <td>0</td>\n",
       "      <td>0</td>\n",
       "      <td>0</td>\n",
       "      <td>0</td>\n",
       "      <td>0.770</td>\n",
       "    </tr>\n",
       "    <tr>\n",
       "      <th>4201</th>\n",
       "      <td>Jose Lopez</td>\n",
       "      <td>600641000095</td>\n",
       "      <td>18</td>\n",
       "      <td>0.86</td>\n",
       "      <td>0</td>\n",
       "      <td>0</td>\n",
       "      <td>0</td>\n",
       "      <td>0</td>\n",
       "      <td>0</td>\n",
       "      <td>0</td>\n",
       "      <td>...</td>\n",
       "      <td>0</td>\n",
       "      <td>0</td>\n",
       "      <td>1</td>\n",
       "      <td>1</td>\n",
       "      <td>0</td>\n",
       "      <td>0</td>\n",
       "      <td>0</td>\n",
       "      <td>0</td>\n",
       "      <td>0</td>\n",
       "      <td>0.768</td>\n",
       "    </tr>\n",
       "    <tr>\n",
       "      <th>3903</th>\n",
       "      <td>Elaina Mccoy</td>\n",
       "      <td>577319452495</td>\n",
       "      <td>24</td>\n",
       "      <td>0.71</td>\n",
       "      <td>0</td>\n",
       "      <td>0</td>\n",
       "      <td>0</td>\n",
       "      <td>0</td>\n",
       "      <td>0</td>\n",
       "      <td>0</td>\n",
       "      <td>...</td>\n",
       "      <td>0</td>\n",
       "      <td>0</td>\n",
       "      <td>0</td>\n",
       "      <td>1</td>\n",
       "      <td>0</td>\n",
       "      <td>0</td>\n",
       "      <td>0</td>\n",
       "      <td>0</td>\n",
       "      <td>0</td>\n",
       "      <td>0.764</td>\n",
       "    </tr>\n",
       "    <tr>\n",
       "      <th>2017</th>\n",
       "      <td>Londyn Hawkins</td>\n",
       "      <td>389324709496</td>\n",
       "      <td>22</td>\n",
       "      <td>0.85</td>\n",
       "      <td>0</td>\n",
       "      <td>0</td>\n",
       "      <td>0</td>\n",
       "      <td>0</td>\n",
       "      <td>0</td>\n",
       "      <td>0</td>\n",
       "      <td>...</td>\n",
       "      <td>0</td>\n",
       "      <td>0</td>\n",
       "      <td>0</td>\n",
       "      <td>0</td>\n",
       "      <td>1</td>\n",
       "      <td>0</td>\n",
       "      <td>0</td>\n",
       "      <td>0</td>\n",
       "      <td>0</td>\n",
       "      <td>0.763</td>\n",
       "    </tr>\n",
       "    <tr>\n",
       "      <th>6581</th>\n",
       "      <td>Gloria Preston</td>\n",
       "      <td>94010505529</td>\n",
       "      <td>19</td>\n",
       "      <td>0.73</td>\n",
       "      <td>0</td>\n",
       "      <td>0</td>\n",
       "      <td>0</td>\n",
       "      <td>0</td>\n",
       "      <td>0</td>\n",
       "      <td>0</td>\n",
       "      <td>...</td>\n",
       "      <td>0</td>\n",
       "      <td>0</td>\n",
       "      <td>0</td>\n",
       "      <td>0</td>\n",
       "      <td>1</td>\n",
       "      <td>0</td>\n",
       "      <td>0</td>\n",
       "      <td>0</td>\n",
       "      <td>0</td>\n",
       "      <td>0.753</td>\n",
       "    </tr>\n",
       "    <tr>\n",
       "      <th>499</th>\n",
       "      <td>German Doyle</td>\n",
       "      <td>11044618821</td>\n",
       "      <td>29</td>\n",
       "      <td>0.65</td>\n",
       "      <td>0</td>\n",
       "      <td>0</td>\n",
       "      <td>0</td>\n",
       "      <td>0</td>\n",
       "      <td>0</td>\n",
       "      <td>0</td>\n",
       "      <td>...</td>\n",
       "      <td>0</td>\n",
       "      <td>0</td>\n",
       "      <td>0</td>\n",
       "      <td>1</td>\n",
       "      <td>0</td>\n",
       "      <td>0</td>\n",
       "      <td>0</td>\n",
       "      <td>0</td>\n",
       "      <td>0</td>\n",
       "      <td>0.752</td>\n",
       "    </tr>\n",
       "    <tr>\n",
       "      <th>5847</th>\n",
       "      <td>Zain Martinez</td>\n",
       "      <td>510811560569</td>\n",
       "      <td>24</td>\n",
       "      <td>0.92</td>\n",
       "      <td>0</td>\n",
       "      <td>0</td>\n",
       "      <td>0</td>\n",
       "      <td>0</td>\n",
       "      <td>0</td>\n",
       "      <td>0</td>\n",
       "      <td>...</td>\n",
       "      <td>0</td>\n",
       "      <td>0</td>\n",
       "      <td>1</td>\n",
       "      <td>0</td>\n",
       "      <td>1</td>\n",
       "      <td>0</td>\n",
       "      <td>0</td>\n",
       "      <td>0</td>\n",
       "      <td>0</td>\n",
       "      <td>0.751</td>\n",
       "    </tr>\n",
       "    <tr>\n",
       "      <th>7847</th>\n",
       "      <td>Jose Dalton</td>\n",
       "      <td>619654268052</td>\n",
       "      <td>30</td>\n",
       "      <td>0.80</td>\n",
       "      <td>0</td>\n",
       "      <td>0</td>\n",
       "      <td>0</td>\n",
       "      <td>0</td>\n",
       "      <td>0</td>\n",
       "      <td>0</td>\n",
       "      <td>...</td>\n",
       "      <td>0</td>\n",
       "      <td>0</td>\n",
       "      <td>0</td>\n",
       "      <td>0</td>\n",
       "      <td>1</td>\n",
       "      <td>0</td>\n",
       "      <td>0</td>\n",
       "      <td>0</td>\n",
       "      <td>0</td>\n",
       "      <td>0.750</td>\n",
       "    </tr>\n",
       "    <tr>\n",
       "      <th>911</th>\n",
       "      <td>Cortez Gillespie</td>\n",
       "      <td>568253675057</td>\n",
       "      <td>35</td>\n",
       "      <td>0.84</td>\n",
       "      <td>0</td>\n",
       "      <td>0</td>\n",
       "      <td>0</td>\n",
       "      <td>0</td>\n",
       "      <td>0</td>\n",
       "      <td>0</td>\n",
       "      <td>...</td>\n",
       "      <td>0</td>\n",
       "      <td>0</td>\n",
       "      <td>1</td>\n",
       "      <td>1</td>\n",
       "      <td>0</td>\n",
       "      <td>0</td>\n",
       "      <td>0</td>\n",
       "      <td>0</td>\n",
       "      <td>0</td>\n",
       "      <td>0.749</td>\n",
       "    </tr>\n",
       "  </tbody>\n",
       "</table>\n",
       "<p>10 rows × 21 columns</p>\n",
       "</div>"
      ],
      "text/plain": [
       "                  Name  Phone Number  Age  Game Attendance  Alberta  \\\n",
       "6012       Jalen Munoz  953081145902   34             0.95        0   \n",
       "4258       Tommy Oneal  636316335251   25             0.94        0   \n",
       "4201        Jose Lopez  600641000095   18             0.86        0   \n",
       "3903      Elaina Mccoy  577319452495   24             0.71        0   \n",
       "2017    Londyn Hawkins  389324709496   22             0.85        0   \n",
       "6581    Gloria Preston   94010505529   19             0.73        0   \n",
       "499       German Doyle   11044618821   29             0.65        0   \n",
       "5847     Zain Martinez  510811560569   24             0.92        0   \n",
       "7847       Jose Dalton  619654268052   30             0.80        0   \n",
       "911   Cortez Gillespie  568253675057   35             0.84        0   \n",
       "\n",
       "      British Columbia  Manitoba  New Brunswick  Newfoundland and Labrador  \\\n",
       "6012                 0         0              0                          0   \n",
       "4258                 0         0              0                          0   \n",
       "4201                 0         0              0                          0   \n",
       "3903                 0         0              0                          0   \n",
       "2017                 0         0              0                          0   \n",
       "6581                 0         0              0                          0   \n",
       "499                  0         0              0                          0   \n",
       "5847                 0         0              0                          0   \n",
       "7847                 0         0              0                          0   \n",
       "911                  0         0              0                          0   \n",
       "\n",
       "      Nova Scotia  ...  Prince Edward Island  Quebec  Saskatchewan  baseball  \\\n",
       "6012            0  ...                     0       0             0         1   \n",
       "4258            0  ...                     0       0             1         1   \n",
       "4201            0  ...                     0       0             1         1   \n",
       "3903            0  ...                     0       0             0         1   \n",
       "2017            0  ...                     0       0             0         0   \n",
       "6581            0  ...                     0       0             0         0   \n",
       "499             0  ...                     0       0             0         1   \n",
       "5847            0  ...                     0       0             1         0   \n",
       "7847            0  ...                     0       0             0         0   \n",
       "911             0  ...                     0       0             1         1   \n",
       "\n",
       "      cricket  ice hockey  rugby  soccer  tennis  Applying Probability  \n",
       "6012        0           0      0       0       0                 0.780  \n",
       "4258        0           0      0       0       0                 0.770  \n",
       "4201        0           0      0       0       0                 0.768  \n",
       "3903        0           0      0       0       0                 0.764  \n",
       "2017        1           0      0       0       0                 0.763  \n",
       "6581        1           0      0       0       0                 0.753  \n",
       "499         0           0      0       0       0                 0.752  \n",
       "5847        1           0      0       0       0                 0.751  \n",
       "7847        1           0      0       0       0                 0.750  \n",
       "911         0           0      0       0       0                 0.749  \n",
       "\n",
       "[10 rows x 21 columns]"
      ]
     },
     "execution_count": 49,
     "metadata": {},
     "output_type": "execute_result"
    }
   ],
   "source": [
    "# predict the probabilities (of applying) for the leads who have not been called yet\n",
    "y_pred_proba = model.predict_proba(dataset_predict.drop(columns = ['Name', 'Phone Number', 'Applying Probability']))[:, 1]\n",
    "# add results to the dataset\n",
    "dataset_predict['Applying Probability'] = np.round(y_pred_proba,3)\n",
    "# sort the uncalled leads from the biggest probability to apply to the smallest\n",
    "dataset_predict = dataset_predict.sort_values(by='Applying Probability',ascending=False)\n",
    "# display the dataframe\n",
    "dataset_predict.head(10)"
   ]
  },
  {
   "cell_type": "code",
   "execution_count": 50,
   "id": "e7282768",
   "metadata": {},
   "outputs": [
    {
     "data": {
      "text/plain": [
       "0.711"
      ]
     },
     "execution_count": 50,
     "metadata": {},
     "output_type": "execute_result"
    }
   ],
   "source": [
    "# check the probability of the 100th most likely to apply person\n",
    "dataset_predict.iloc[99, dataset_predict.columns.get_loc('Applying Probability')]"
   ]
  },
  {
   "cell_type": "code",
   "execution_count": 51,
   "id": "07f8e663",
   "metadata": {},
   "outputs": [
    {
     "data": {
      "text/html": [
       "<div>\n",
       "<style scoped>\n",
       "    .dataframe tbody tr th:only-of-type {\n",
       "        vertical-align: middle;\n",
       "    }\n",
       "\n",
       "    .dataframe tbody tr th {\n",
       "        vertical-align: top;\n",
       "    }\n",
       "\n",
       "    .dataframe thead th {\n",
       "        text-align: right;\n",
       "    }\n",
       "</style>\n",
       "<table border=\"1\" class=\"dataframe\">\n",
       "  <thead>\n",
       "    <tr style=\"text-align: right;\">\n",
       "      <th></th>\n",
       "      <th>Name</th>\n",
       "      <th>Phone Number</th>\n",
       "      <th>Applying Probability</th>\n",
       "    </tr>\n",
       "  </thead>\n",
       "  <tbody>\n",
       "    <tr>\n",
       "      <th>6012</th>\n",
       "      <td>Jalen Munoz</td>\n",
       "      <td>953081145902</td>\n",
       "      <td>0.780</td>\n",
       "    </tr>\n",
       "    <tr>\n",
       "      <th>4258</th>\n",
       "      <td>Tommy Oneal</td>\n",
       "      <td>636316335251</td>\n",
       "      <td>0.770</td>\n",
       "    </tr>\n",
       "    <tr>\n",
       "      <th>4201</th>\n",
       "      <td>Jose Lopez</td>\n",
       "      <td>600641000095</td>\n",
       "      <td>0.768</td>\n",
       "    </tr>\n",
       "    <tr>\n",
       "      <th>3903</th>\n",
       "      <td>Elaina Mccoy</td>\n",
       "      <td>577319452495</td>\n",
       "      <td>0.764</td>\n",
       "    </tr>\n",
       "    <tr>\n",
       "      <th>2017</th>\n",
       "      <td>Londyn Hawkins</td>\n",
       "      <td>389324709496</td>\n",
       "      <td>0.763</td>\n",
       "    </tr>\n",
       "    <tr>\n",
       "      <th>6581</th>\n",
       "      <td>Gloria Preston</td>\n",
       "      <td>94010505529</td>\n",
       "      <td>0.753</td>\n",
       "    </tr>\n",
       "    <tr>\n",
       "      <th>499</th>\n",
       "      <td>German Doyle</td>\n",
       "      <td>11044618821</td>\n",
       "      <td>0.752</td>\n",
       "    </tr>\n",
       "    <tr>\n",
       "      <th>5847</th>\n",
       "      <td>Zain Martinez</td>\n",
       "      <td>510811560569</td>\n",
       "      <td>0.751</td>\n",
       "    </tr>\n",
       "    <tr>\n",
       "      <th>7847</th>\n",
       "      <td>Jose Dalton</td>\n",
       "      <td>619654268052</td>\n",
       "      <td>0.750</td>\n",
       "    </tr>\n",
       "    <tr>\n",
       "      <th>911</th>\n",
       "      <td>Cortez Gillespie</td>\n",
       "      <td>568253675057</td>\n",
       "      <td>0.749</td>\n",
       "    </tr>\n",
       "  </tbody>\n",
       "</table>\n",
       "</div>"
      ],
      "text/plain": [
       "                  Name  Phone Number  Applying Probability\n",
       "6012       Jalen Munoz  953081145902                 0.780\n",
       "4258       Tommy Oneal  636316335251                 0.770\n",
       "4201        Jose Lopez  600641000095                 0.768\n",
       "3903      Elaina Mccoy  577319452495                 0.764\n",
       "2017    Londyn Hawkins  389324709496                 0.763\n",
       "6581    Gloria Preston   94010505529                 0.753\n",
       "499       German Doyle   11044618821                 0.752\n",
       "5847     Zain Martinez  510811560569                 0.751\n",
       "7847       Jose Dalton  619654268052                 0.750\n",
       "911   Cortez Gillespie  568253675057                 0.749"
      ]
     },
     "execution_count": 51,
     "metadata": {},
     "output_type": "execute_result"
    }
   ],
   "source": [
    "# save the results to a new dataframe\n",
    "best_leads = dataset_predict.iloc[:100][['Name', 'Phone Number', 'Applying Probability']]\n",
    "best_leads.head(10)"
   ]
  },
  {
   "cell_type": "markdown",
   "id": "cf1d7adb",
   "metadata": {},
   "source": [
    "The obtained dataframe contains names, phone numbers and application probabilities of 100 most promising leads. The dataframe can be exported to csv using the following line of code:\n",
    "\n",
    "best_leads.to_csv('best_leads.csv', index=False)"
   ]
  }
 ],
 "metadata": {
  "kernelspec": {
   "display_name": "Python 3 (ipykernel)",
   "language": "python",
   "name": "python3"
  },
  "language_info": {
   "codemirror_mode": {
    "name": "ipython",
    "version": 3
   },
   "file_extension": ".py",
   "mimetype": "text/x-python",
   "name": "python",
   "nbconvert_exporter": "python",
   "pygments_lexer": "ipython3",
   "version": "3.10.11"
  }
 },
 "nbformat": 4,
 "nbformat_minor": 5
}
